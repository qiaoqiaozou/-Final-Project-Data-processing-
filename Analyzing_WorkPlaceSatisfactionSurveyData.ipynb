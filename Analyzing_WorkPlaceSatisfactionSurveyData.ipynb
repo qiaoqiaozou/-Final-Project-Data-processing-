{
 "cells": [
  {
   "cell_type": "markdown",
   "metadata": {},
   "source": [
    "# Analyze Work Place Satisfaction Survey Data\n",
    "\n",
    "This notebook walks through an analysis of work palce satisfaction survey data. The data includes various demographic variables (like age, gender, family and education), as well assalary, sat_management, and more. We'll perform data cleaning, explore descriptive statistics, visualize the data, and examine the relationships between variables using cross-tabulation and hypothesis testing \n",
    "\n",
    "## Goals of the analysis:\n",
    "\n",
    "1. Analyze the dependence between the categorical variables gender, family and eduction(Qiaoqiao Zou).\n",
    "2. Analyze the differences between gender and management, working environment, and tasks(Qiaoqiao Zou).\n",
    "3. Examining the relationship between education level and salary satisfaction data by using a crosstabs(Xiaomeng Du).\n",
    "4. Investigate how task satisfaction varies between employees of different family statuses (Single vs. Not Single). This analysis helps identify whether family status is associated with differences in task satisfaction levels(Peng Ren).\n",
    "5. Focuses on employee satisfaction by family status and education level. We analyzed satisfaction levels—management, colleagues, work environment, salary, and tasks—comparing Single vs. Not Single employees(Zhengliang Hao)."
   ]
  },
  {
   "cell_type": "code",
   "execution_count": 4774,
   "metadata": {},
   "outputs": [
    {
     "name": "stdout",
     "output_type": "stream",
     "text": [
      "Requirement already satisfied: pandas in /Library/Frameworks/Python.framework/Versions/3.12/lib/python3.12/site-packages (2.2.3)\n",
      "Requirement already satisfied: numpy>=1.26.0 in /Library/Frameworks/Python.framework/Versions/3.12/lib/python3.12/site-packages (from pandas) (2.1.1)\n",
      "Requirement already satisfied: python-dateutil>=2.8.2 in /Users/zouqiaoqiao/Library/Python/3.12/lib/python/site-packages (from pandas) (2.8.2)\n",
      "Requirement already satisfied: pytz>=2020.1 in /Library/Frameworks/Python.framework/Versions/3.12/lib/python3.12/site-packages (from pandas) (2024.2)\n",
      "Requirement already satisfied: tzdata>=2022.7 in /Library/Frameworks/Python.framework/Versions/3.12/lib/python3.12/site-packages (from pandas) (2024.2)\n",
      "Requirement already satisfied: six>=1.5 in /Users/zouqiaoqiao/Library/Python/3.12/lib/python/site-packages (from python-dateutil>=2.8.2->pandas) (1.16.0)\n",
      "Note: you may need to restart the kernel to use updated packages.\n"
     ]
    }
   ],
   "source": [
    "%pip install pandas\n"
   ]
  },
  {
   "cell_type": "code",
   "execution_count": 4775,
   "metadata": {},
   "outputs": [
    {
     "name": "stdout",
     "output_type": "stream",
     "text": [
      "Requirement already satisfied: seaborn in /Library/Frameworks/Python.framework/Versions/3.12/lib/python3.12/site-packages (0.13.2)\n",
      "Requirement already satisfied: numpy!=1.24.0,>=1.20 in /Library/Frameworks/Python.framework/Versions/3.12/lib/python3.12/site-packages (from seaborn) (2.1.1)\n",
      "Requirement already satisfied: pandas>=1.2 in /Library/Frameworks/Python.framework/Versions/3.12/lib/python3.12/site-packages (from seaborn) (2.2.3)\n",
      "Requirement already satisfied: matplotlib!=3.6.1,>=3.4 in /Library/Frameworks/Python.framework/Versions/3.12/lib/python3.12/site-packages (from seaborn) (3.9.2)\n",
      "Requirement already satisfied: contourpy>=1.0.1 in /Library/Frameworks/Python.framework/Versions/3.12/lib/python3.12/site-packages (from matplotlib!=3.6.1,>=3.4->seaborn) (1.3.0)\n",
      "Requirement already satisfied: cycler>=0.10 in /Library/Frameworks/Python.framework/Versions/3.12/lib/python3.12/site-packages (from matplotlib!=3.6.1,>=3.4->seaborn) (0.12.1)\n",
      "Requirement already satisfied: fonttools>=4.22.0 in /Library/Frameworks/Python.framework/Versions/3.12/lib/python3.12/site-packages (from matplotlib!=3.6.1,>=3.4->seaborn) (4.54.1)\n",
      "Requirement already satisfied: kiwisolver>=1.3.1 in /Library/Frameworks/Python.framework/Versions/3.12/lib/python3.12/site-packages (from matplotlib!=3.6.1,>=3.4->seaborn) (1.4.7)\n",
      "Requirement already satisfied: packaging>=20.0 in /Users/zouqiaoqiao/Library/Python/3.12/lib/python/site-packages (from matplotlib!=3.6.1,>=3.4->seaborn) (23.2)\n",
      "Requirement already satisfied: pillow>=8 in /Library/Frameworks/Python.framework/Versions/3.12/lib/python3.12/site-packages (from matplotlib!=3.6.1,>=3.4->seaborn) (10.4.0)\n",
      "Requirement already satisfied: pyparsing>=2.3.1 in /Library/Frameworks/Python.framework/Versions/3.12/lib/python3.12/site-packages (from matplotlib!=3.6.1,>=3.4->seaborn) (3.1.4)\n",
      "Requirement already satisfied: python-dateutil>=2.7 in /Users/zouqiaoqiao/Library/Python/3.12/lib/python/site-packages (from matplotlib!=3.6.1,>=3.4->seaborn) (2.8.2)\n",
      "Requirement already satisfied: pytz>=2020.1 in /Library/Frameworks/Python.framework/Versions/3.12/lib/python3.12/site-packages (from pandas>=1.2->seaborn) (2024.2)\n",
      "Requirement already satisfied: tzdata>=2022.7 in /Library/Frameworks/Python.framework/Versions/3.12/lib/python3.12/site-packages (from pandas>=1.2->seaborn) (2024.2)\n",
      "Requirement already satisfied: six>=1.5 in /Users/zouqiaoqiao/Library/Python/3.12/lib/python/site-packages (from python-dateutil>=2.7->matplotlib!=3.6.1,>=3.4->seaborn) (1.16.0)\n",
      "Note: you may need to restart the kernel to use updated packages.\n"
     ]
    }
   ],
   "source": [
    "%pip install seaborn"
   ]
  },
  {
   "cell_type": "code",
   "execution_count": 4776,
   "metadata": {},
   "outputs": [
    {
     "name": "stdout",
     "output_type": "stream",
     "text": [
      "Requirement already satisfied: Jinja2 in /Library/Frameworks/Python.framework/Versions/3.12/lib/python3.12/site-packages (3.1.4)\n",
      "Requirement already satisfied: MarkupSafe>=2.0 in /Library/Frameworks/Python.framework/Versions/3.12/lib/python3.12/site-packages (from Jinja2) (3.0.2)\n",
      "Note: you may need to restart the kernel to use updated packages.\n"
     ]
    }
   ],
   "source": [
    "%pip install Jinja2"
   ]
  },
  {
   "cell_type": "markdown",
   "metadata": {},
   "source": [
    "## 1. Initial Preparation\n",
    "\n",
    "we load the data and take an initial look at the dataset to understand its structure and contents."
   ]
  },
  {
   "cell_type": "code",
   "execution_count": 4777,
   "metadata": {},
   "outputs": [],
   "source": [
    "import numpy as np\n",
    "import pandas as pd\n",
    "import matplotlib.pyplot as plt\n",
    "import seaborn as sns"
   ]
  },
  {
   "cell_type": "code",
   "execution_count": 4778,
   "metadata": {},
   "outputs": [
    {
     "name": "stdout",
     "output_type": "stream",
     "text": [
      "Requirement already satisfied: openpyxl in /Library/Frameworks/Python.framework/Versions/3.12/lib/python3.12/site-packages (3.1.5)\n",
      "Requirement already satisfied: et-xmlfile in /Library/Frameworks/Python.framework/Versions/3.12/lib/python3.12/site-packages (from openpyxl) (1.1.0)\n",
      "Note: you may need to restart the kernel to use updated packages.\n"
     ]
    }
   ],
   "source": [
    "# Pandas uses openpyxl to read Excel files.\n",
    "%pip install openpyxl\n"
   ]
  },
  {
   "cell_type": "markdown",
   "metadata": {},
   "source": [
    "###  Load the data"
   ]
  },
  {
   "cell_type": "code",
   "execution_count": 4779,
   "metadata": {},
   "outputs": [
    {
     "data": {
      "text/html": [
       "<div>\n",
       "<style scoped>\n",
       "    .dataframe tbody tr th:only-of-type {\n",
       "        vertical-align: middle;\n",
       "    }\n",
       "\n",
       "    .dataframe tbody tr th {\n",
       "        vertical-align: top;\n",
       "    }\n",
       "\n",
       "    .dataframe thead th {\n",
       "        text-align: right;\n",
       "    }\n",
       "</style>\n",
       "<table border=\"1\" class=\"dataframe\">\n",
       "  <thead>\n",
       "    <tr style=\"text-align: right;\">\n",
       "      <th></th>\n",
       "      <th>number</th>\n",
       "      <th>gender</th>\n",
       "      <th>age</th>\n",
       "      <th>family</th>\n",
       "      <th>education</th>\n",
       "      <th>years_of_service</th>\n",
       "      <th>salary</th>\n",
       "      <th>sat_management</th>\n",
       "      <th>sat_colleques</th>\n",
       "      <th>sat_workingEnvironment</th>\n",
       "      <th>sat_salary</th>\n",
       "      <th>sat_tasks</th>\n",
       "      <th>healtcare</th>\n",
       "      <th>holidayCabin</th>\n",
       "      <th>gym</th>\n",
       "      <th>muscleCare</th>\n",
       "    </tr>\n",
       "  </thead>\n",
       "  <tbody>\n",
       "    <tr>\n",
       "      <th>0</th>\n",
       "      <td>1</td>\n",
       "      <td>1</td>\n",
       "      <td>38</td>\n",
       "      <td>1</td>\n",
       "      <td>1.0</td>\n",
       "      <td>22.0</td>\n",
       "      <td>3587</td>\n",
       "      <td>3</td>\n",
       "      <td>3.0</td>\n",
       "      <td>3</td>\n",
       "      <td>3</td>\n",
       "      <td>3</td>\n",
       "      <td>NaN</td>\n",
       "      <td>NaN</td>\n",
       "      <td>NaN</td>\n",
       "      <td>NaN</td>\n",
       "    </tr>\n",
       "    <tr>\n",
       "      <th>1</th>\n",
       "      <td>2</td>\n",
       "      <td>1</td>\n",
       "      <td>29</td>\n",
       "      <td>2</td>\n",
       "      <td>2.0</td>\n",
       "      <td>10.0</td>\n",
       "      <td>2963</td>\n",
       "      <td>1</td>\n",
       "      <td>5.0</td>\n",
       "      <td>2</td>\n",
       "      <td>1</td>\n",
       "      <td>3</td>\n",
       "      <td>NaN</td>\n",
       "      <td>NaN</td>\n",
       "      <td>NaN</td>\n",
       "      <td>NaN</td>\n",
       "    </tr>\n",
       "    <tr>\n",
       "      <th>2</th>\n",
       "      <td>3</td>\n",
       "      <td>1</td>\n",
       "      <td>30</td>\n",
       "      <td>1</td>\n",
       "      <td>1.0</td>\n",
       "      <td>7.0</td>\n",
       "      <td>1989</td>\n",
       "      <td>3</td>\n",
       "      <td>4.0</td>\n",
       "      <td>1</td>\n",
       "      <td>1</td>\n",
       "      <td>3</td>\n",
       "      <td>1.0</td>\n",
       "      <td>NaN</td>\n",
       "      <td>NaN</td>\n",
       "      <td>NaN</td>\n",
       "    </tr>\n",
       "    <tr>\n",
       "      <th>3</th>\n",
       "      <td>4</td>\n",
       "      <td>1</td>\n",
       "      <td>36</td>\n",
       "      <td>2</td>\n",
       "      <td>1.0</td>\n",
       "      <td>14.0</td>\n",
       "      <td>2144</td>\n",
       "      <td>3</td>\n",
       "      <td>3.0</td>\n",
       "      <td>3</td>\n",
       "      <td>3</td>\n",
       "      <td>3</td>\n",
       "      <td>1.0</td>\n",
       "      <td>NaN</td>\n",
       "      <td>NaN</td>\n",
       "      <td>NaN</td>\n",
       "    </tr>\n",
       "    <tr>\n",
       "      <th>4</th>\n",
       "      <td>5</td>\n",
       "      <td>1</td>\n",
       "      <td>24</td>\n",
       "      <td>1</td>\n",
       "      <td>2.0</td>\n",
       "      <td>4.0</td>\n",
       "      <td>2183</td>\n",
       "      <td>2</td>\n",
       "      <td>3.0</td>\n",
       "      <td>2</td>\n",
       "      <td>1</td>\n",
       "      <td>2</td>\n",
       "      <td>1.0</td>\n",
       "      <td>NaN</td>\n",
       "      <td>NaN</td>\n",
       "      <td>NaN</td>\n",
       "    </tr>\n",
       "  </tbody>\n",
       "</table>\n",
       "</div>"
      ],
      "text/plain": [
       "   number  gender  age  family  education  years_of_service  salary  \\\n",
       "0       1       1   38       1        1.0              22.0    3587   \n",
       "1       2       1   29       2        2.0              10.0    2963   \n",
       "2       3       1   30       1        1.0               7.0    1989   \n",
       "3       4       1   36       2        1.0              14.0    2144   \n",
       "4       5       1   24       1        2.0               4.0    2183   \n",
       "\n",
       "   sat_management  sat_colleques  sat_workingEnvironment  sat_salary  \\\n",
       "0               3            3.0                       3           3   \n",
       "1               1            5.0                       2           1   \n",
       "2               3            4.0                       1           1   \n",
       "3               3            3.0                       3           3   \n",
       "4               2            3.0                       2           1   \n",
       "\n",
       "   sat_tasks  healtcare  holidayCabin  gym  muscleCare  \n",
       "0          3        NaN           NaN  NaN         NaN  \n",
       "1          3        NaN           NaN  NaN         NaN  \n",
       "2          3        1.0           NaN  NaN         NaN  \n",
       "3          3        1.0           NaN  NaN         NaN  \n",
       "4          2        1.0           NaN  NaN         NaN  "
      ]
     },
     "execution_count": 4779,
     "metadata": {},
     "output_type": "execute_result"
    }
   ],
   "source": [
    "# Load the data\n",
    "df = pd.read_excel('WorkPlaceSatisfactionSurveyData.xlsx')\n",
    "df.head()"
   ]
  },
  {
   "cell_type": "code",
   "execution_count": 4780,
   "metadata": {},
   "outputs": [
    {
     "data": {
      "text/html": [
       "<div>\n",
       "<style scoped>\n",
       "    .dataframe tbody tr th:only-of-type {\n",
       "        vertical-align: middle;\n",
       "    }\n",
       "\n",
       "    .dataframe tbody tr th {\n",
       "        vertical-align: top;\n",
       "    }\n",
       "\n",
       "    .dataframe thead th {\n",
       "        text-align: right;\n",
       "    }\n",
       "</style>\n",
       "<table border=\"1\" class=\"dataframe\">\n",
       "  <thead>\n",
       "    <tr style=\"text-align: right;\">\n",
       "      <th></th>\n",
       "      <th>number</th>\n",
       "      <th>gender</th>\n",
       "      <th>age</th>\n",
       "      <th>family</th>\n",
       "      <th>education</th>\n",
       "      <th>years_of_service</th>\n",
       "      <th>salary</th>\n",
       "      <th>sat_management</th>\n",
       "      <th>sat_colleques</th>\n",
       "      <th>sat_workingEnvironment</th>\n",
       "      <th>sat_salary</th>\n",
       "      <th>sat_tasks</th>\n",
       "      <th>healtcare</th>\n",
       "      <th>holidayCabin</th>\n",
       "      <th>gym</th>\n",
       "      <th>muscleCare</th>\n",
       "    </tr>\n",
       "  </thead>\n",
       "  <tbody>\n",
       "    <tr>\n",
       "      <th>77</th>\n",
       "      <td>78</td>\n",
       "      <td>1</td>\n",
       "      <td>22</td>\n",
       "      <td>1</td>\n",
       "      <td>3.0</td>\n",
       "      <td>0.0</td>\n",
       "      <td>1598</td>\n",
       "      <td>4</td>\n",
       "      <td>4.0</td>\n",
       "      <td>4</td>\n",
       "      <td>3</td>\n",
       "      <td>4</td>\n",
       "      <td>NaN</td>\n",
       "      <td>1.0</td>\n",
       "      <td>1.0</td>\n",
       "      <td>NaN</td>\n",
       "    </tr>\n",
       "    <tr>\n",
       "      <th>78</th>\n",
       "      <td>79</td>\n",
       "      <td>1</td>\n",
       "      <td>33</td>\n",
       "      <td>1</td>\n",
       "      <td>1.0</td>\n",
       "      <td>2.0</td>\n",
       "      <td>1638</td>\n",
       "      <td>1</td>\n",
       "      <td>3.0</td>\n",
       "      <td>2</td>\n",
       "      <td>1</td>\n",
       "      <td>2</td>\n",
       "      <td>1.0</td>\n",
       "      <td>NaN</td>\n",
       "      <td>NaN</td>\n",
       "      <td>NaN</td>\n",
       "    </tr>\n",
       "    <tr>\n",
       "      <th>79</th>\n",
       "      <td>80</td>\n",
       "      <td>1</td>\n",
       "      <td>27</td>\n",
       "      <td>1</td>\n",
       "      <td>2.0</td>\n",
       "      <td>7.0</td>\n",
       "      <td>2612</td>\n",
       "      <td>3</td>\n",
       "      <td>4.0</td>\n",
       "      <td>3</td>\n",
       "      <td>3</td>\n",
       "      <td>3</td>\n",
       "      <td>1.0</td>\n",
       "      <td>NaN</td>\n",
       "      <td>1.0</td>\n",
       "      <td>NaN</td>\n",
       "    </tr>\n",
       "    <tr>\n",
       "      <th>80</th>\n",
       "      <td>81</td>\n",
       "      <td>1</td>\n",
       "      <td>35</td>\n",
       "      <td>2</td>\n",
       "      <td>2.0</td>\n",
       "      <td>16.0</td>\n",
       "      <td>2808</td>\n",
       "      <td>3</td>\n",
       "      <td>4.0</td>\n",
       "      <td>3</td>\n",
       "      <td>3</td>\n",
       "      <td>3</td>\n",
       "      <td>NaN</td>\n",
       "      <td>NaN</td>\n",
       "      <td>NaN</td>\n",
       "      <td>NaN</td>\n",
       "    </tr>\n",
       "    <tr>\n",
       "      <th>81</th>\n",
       "      <td>82</td>\n",
       "      <td>2</td>\n",
       "      <td>35</td>\n",
       "      <td>2</td>\n",
       "      <td>3.0</td>\n",
       "      <td>15.0</td>\n",
       "      <td>2183</td>\n",
       "      <td>3</td>\n",
       "      <td>4.0</td>\n",
       "      <td>4</td>\n",
       "      <td>3</td>\n",
       "      <td>4</td>\n",
       "      <td>1.0</td>\n",
       "      <td>NaN</td>\n",
       "      <td>NaN</td>\n",
       "      <td>NaN</td>\n",
       "    </tr>\n",
       "  </tbody>\n",
       "</table>\n",
       "</div>"
      ],
      "text/plain": [
       "    number  gender  age  family  education  years_of_service  salary  \\\n",
       "77      78       1   22       1        3.0               0.0    1598   \n",
       "78      79       1   33       1        1.0               2.0    1638   \n",
       "79      80       1   27       1        2.0               7.0    2612   \n",
       "80      81       1   35       2        2.0              16.0    2808   \n",
       "81      82       2   35       2        3.0              15.0    2183   \n",
       "\n",
       "    sat_management  sat_colleques  sat_workingEnvironment  sat_salary  \\\n",
       "77               4            4.0                       4           3   \n",
       "78               1            3.0                       2           1   \n",
       "79               3            4.0                       3           3   \n",
       "80               3            4.0                       3           3   \n",
       "81               3            4.0                       4           3   \n",
       "\n",
       "    sat_tasks  healtcare  holidayCabin  gym  muscleCare  \n",
       "77          4        NaN           1.0  1.0         NaN  \n",
       "78          2        1.0           NaN  NaN         NaN  \n",
       "79          3        1.0           NaN  1.0         NaN  \n",
       "80          3        NaN           NaN  NaN         NaN  \n",
       "81          4        1.0           NaN  NaN         NaN  "
      ]
     },
     "execution_count": 4780,
     "metadata": {},
     "output_type": "execute_result"
    }
   ],
   "source": [
    "# the last rows of the data\n",
    "df.tail()"
   ]
  },
  {
   "cell_type": "code",
   "execution_count": 4781,
   "metadata": {},
   "outputs": [
    {
     "data": {
      "text/plain": [
       "number                    82\n",
       "gender                    82\n",
       "age                       82\n",
       "family                    82\n",
       "education                 81\n",
       "years_of_service          80\n",
       "salary                    82\n",
       "sat_management            82\n",
       "sat_colleques             81\n",
       "sat_workingEnvironment    82\n",
       "sat_salary                82\n",
       "sat_tasks                 82\n",
       "healtcare                 47\n",
       "holidayCabin              20\n",
       "gym                        9\n",
       "muscleCare                22\n",
       "dtype: int64"
      ]
     },
     "execution_count": 4781,
     "metadata": {},
     "output_type": "execute_result"
    }
   ],
   "source": [
    "# The names of the columns and the counts for them\n",
    "df.count()"
   ]
  },
  {
   "cell_type": "code",
   "execution_count": 4782,
   "metadata": {},
   "outputs": [
    {
     "data": {
      "text/plain": [
       "number                     0\n",
       "gender                     0\n",
       "age                        0\n",
       "family                     0\n",
       "education                  1\n",
       "years_of_service           2\n",
       "salary                     0\n",
       "sat_management             0\n",
       "sat_colleques              1\n",
       "sat_workingEnvironment     0\n",
       "sat_salary                 0\n",
       "sat_tasks                  0\n",
       "healtcare                 35\n",
       "holidayCabin              62\n",
       "gym                       73\n",
       "muscleCare                60\n",
       "dtype: int64"
      ]
     },
     "execution_count": 4782,
     "metadata": {},
     "output_type": "execute_result"
    }
   ],
   "source": [
    "df.isnull().sum()"
   ]
  },
  {
   "cell_type": "markdown",
   "metadata": {},
   "source": [
    "### Data Cleaning\n",
    "\n",
    "Before the analysis, we clean the data. \n",
    "1. Drop unnecessary columns.\n",
    "2. Check for missing values.\n"
   ]
  },
  {
   "cell_type": "code",
   "execution_count": 4783,
   "metadata": {},
   "outputs": [
    {
     "data": {
      "text/html": [
       "<div>\n",
       "<style scoped>\n",
       "    .dataframe tbody tr th:only-of-type {\n",
       "        vertical-align: middle;\n",
       "    }\n",
       "\n",
       "    .dataframe tbody tr th {\n",
       "        vertical-align: top;\n",
       "    }\n",
       "\n",
       "    .dataframe thead th {\n",
       "        text-align: right;\n",
       "    }\n",
       "</style>\n",
       "<table border=\"1\" class=\"dataframe\">\n",
       "  <thead>\n",
       "    <tr style=\"text-align: right;\">\n",
       "      <th></th>\n",
       "      <th>gender</th>\n",
       "      <th>age</th>\n",
       "      <th>family</th>\n",
       "      <th>education</th>\n",
       "      <th>years_of_service</th>\n",
       "      <th>salary</th>\n",
       "      <th>sat_management</th>\n",
       "      <th>sat_colleques</th>\n",
       "      <th>sat_workingEnvironment</th>\n",
       "      <th>sat_salary</th>\n",
       "      <th>sat_tasks</th>\n",
       "    </tr>\n",
       "  </thead>\n",
       "  <tbody>\n",
       "    <tr>\n",
       "      <th>0</th>\n",
       "      <td>1</td>\n",
       "      <td>38</td>\n",
       "      <td>1</td>\n",
       "      <td>1.0</td>\n",
       "      <td>22.0</td>\n",
       "      <td>3587</td>\n",
       "      <td>3</td>\n",
       "      <td>3.0</td>\n",
       "      <td>3</td>\n",
       "      <td>3</td>\n",
       "      <td>3</td>\n",
       "    </tr>\n",
       "    <tr>\n",
       "      <th>1</th>\n",
       "      <td>1</td>\n",
       "      <td>29</td>\n",
       "      <td>2</td>\n",
       "      <td>2.0</td>\n",
       "      <td>10.0</td>\n",
       "      <td>2963</td>\n",
       "      <td>1</td>\n",
       "      <td>5.0</td>\n",
       "      <td>2</td>\n",
       "      <td>1</td>\n",
       "      <td>3</td>\n",
       "    </tr>\n",
       "    <tr>\n",
       "      <th>2</th>\n",
       "      <td>1</td>\n",
       "      <td>30</td>\n",
       "      <td>1</td>\n",
       "      <td>1.0</td>\n",
       "      <td>7.0</td>\n",
       "      <td>1989</td>\n",
       "      <td>3</td>\n",
       "      <td>4.0</td>\n",
       "      <td>1</td>\n",
       "      <td>1</td>\n",
       "      <td>3</td>\n",
       "    </tr>\n",
       "    <tr>\n",
       "      <th>3</th>\n",
       "      <td>1</td>\n",
       "      <td>36</td>\n",
       "      <td>2</td>\n",
       "      <td>1.0</td>\n",
       "      <td>14.0</td>\n",
       "      <td>2144</td>\n",
       "      <td>3</td>\n",
       "      <td>3.0</td>\n",
       "      <td>3</td>\n",
       "      <td>3</td>\n",
       "      <td>3</td>\n",
       "    </tr>\n",
       "    <tr>\n",
       "      <th>4</th>\n",
       "      <td>1</td>\n",
       "      <td>24</td>\n",
       "      <td>1</td>\n",
       "      <td>2.0</td>\n",
       "      <td>4.0</td>\n",
       "      <td>2183</td>\n",
       "      <td>2</td>\n",
       "      <td>3.0</td>\n",
       "      <td>2</td>\n",
       "      <td>1</td>\n",
       "      <td>2</td>\n",
       "    </tr>\n",
       "  </tbody>\n",
       "</table>\n",
       "</div>"
      ],
      "text/plain": [
       "   gender  age  family  education  years_of_service  salary  sat_management  \\\n",
       "0       1   38       1        1.0              22.0    3587               3   \n",
       "1       1   29       2        2.0              10.0    2963               1   \n",
       "2       1   30       1        1.0               7.0    1989               3   \n",
       "3       1   36       2        1.0              14.0    2144               3   \n",
       "4       1   24       1        2.0               4.0    2183               2   \n",
       "\n",
       "   sat_colleques  sat_workingEnvironment  sat_salary  sat_tasks  \n",
       "0            3.0                       3           3          3  \n",
       "1            5.0                       2           1          3  \n",
       "2            4.0                       1           1          3  \n",
       "3            3.0                       3           3          3  \n",
       "4            3.0                       2           1          2  "
      ]
     },
     "execution_count": 4783,
     "metadata": {},
     "output_type": "execute_result"
    }
   ],
   "source": [
    "# Drop unnecessary columns (like 'for columns: unmber,healthcare,holidayCabin,gym,muscleCare')\n",
    "df = df.drop(['number','healtcare','holidayCabin','gym','muscleCare'],axis=1)\n",
    "df.head()\n"
   ]
  },
  {
   "cell_type": "markdown",
   "metadata": {},
   "source": [
    "### Get summary statistics"
   ]
  },
  {
   "cell_type": "code",
   "execution_count": 4784,
   "metadata": {},
   "outputs": [
    {
     "name": "stdout",
     "output_type": "stream",
     "text": [
      "<class 'pandas.core.frame.DataFrame'>\n",
      "RangeIndex: 82 entries, 0 to 81\n",
      "Data columns (total 11 columns):\n",
      " #   Column                  Non-Null Count  Dtype  \n",
      "---  ------                  --------------  -----  \n",
      " 0   gender                  82 non-null     int64  \n",
      " 1   age                     82 non-null     int64  \n",
      " 2   family                  82 non-null     int64  \n",
      " 3   education               81 non-null     float64\n",
      " 4   years_of_service        80 non-null     float64\n",
      " 5   salary                  82 non-null     int64  \n",
      " 6   sat_management          82 non-null     int64  \n",
      " 7   sat_colleques           81 non-null     float64\n",
      " 8   sat_workingEnvironment  82 non-null     int64  \n",
      " 9   sat_salary              82 non-null     int64  \n",
      " 10  sat_tasks               82 non-null     int64  \n",
      "dtypes: float64(3), int64(8)\n",
      "memory usage: 7.2 KB\n"
     ]
    }
   ],
   "source": [
    "# Get a summary of the data\n",
    "df.info()"
   ]
  },
  {
   "cell_type": "code",
   "execution_count": 4785,
   "metadata": {},
   "outputs": [
    {
     "name": "stdout",
     "output_type": "stream",
     "text": [
      "gender [1 2]\n",
      "age [38 29 30 36 24 31 49 55 40 33 39 35 58 53 42 26 47 44 43 56 21 45 59 37\n",
      " 28 50 32 51 22 34 27 41 25 61 20 52 46]\n",
      "family [1 2]\n",
      "education [ 1.  2.  3.  4. nan]\n",
      "years_of_service [22. 10.  7. 14.  4. 16.  0. 23. 21. 15. 12.  2. 17. 20. 13. 27.  1.  3.\n",
      " nan 24.  5.  9.  6. 35. 28. 18. 36. 19.  8.]\n",
      "salary [3587 2963 1989 2144 2183 1910 2066 2768 2106 2651 2846 2808 3393 2691\n",
      " 5225 2729 2925 2457 4874 3510 4446 1521 2223 1949 2340 6278 1559 2027\n",
      " 2300 2534 1872 2261 2417 3119 2574 1715 5069 2495 3470 1598 1638 2612]\n",
      "sat_management [3 1 2 4 5]\n",
      "sat_colleques [ 3.  5.  4.  2. nan]\n",
      "sat_workingEnvironment [3 2 1 5 4]\n",
      "sat_salary [3 1 2 4 5]\n",
      "sat_tasks [3 2 4 1 5]\n"
     ]
    }
   ],
   "source": [
    "# Loop through variables to explore unique values:\n",
    "for var in df:\n",
    "    print(var, df[var].unique())"
   ]
  },
  {
   "cell_type": "markdown",
   "metadata": {},
   "source": [
    "### Clean the data"
   ]
  },
  {
   "cell_type": "code",
   "execution_count": 4786,
   "metadata": {},
   "outputs": [],
   "source": [
    "# Handling missing values\n",
    "\n",
    "# education value drop the null row\n",
    "df = df.dropna(subset=['education'])\n",
    "\n",
    "# years_of_service values fill with median\n",
    "df['years_of_service'] = df['years_of_service'].fillna(df['years_of_service'].median())\n",
    "\n",
    "# sat_colleques fills with majority\n",
    "df['sat_colleques'] = df['sat_colleques'].fillna(df['sat_colleques'].mode()[0])\n"
   ]
  },
  {
   "cell_type": "code",
   "execution_count": 4787,
   "metadata": {},
   "outputs": [
    {
     "data": {
      "text/plain": [
       "gender                    0\n",
       "age                       0\n",
       "family                    0\n",
       "education                 0\n",
       "years_of_service          0\n",
       "salary                    0\n",
       "sat_management            0\n",
       "sat_colleques             0\n",
       "sat_workingEnvironment    0\n",
       "sat_salary                0\n",
       "sat_tasks                 0\n",
       "dtype: int64"
      ]
     },
     "execution_count": 4787,
     "metadata": {},
     "output_type": "execute_result"
    }
   ],
   "source": [
    "# Validation of data cleaning\n",
    "df.isnull().sum()"
   ]
  },
  {
   "cell_type": "markdown",
   "metadata": {},
   "source": [
    "### Variable Analysis"
   ]
  },
  {
   "cell_type": "code",
   "execution_count": 4788,
   "metadata": {},
   "outputs": [
    {
     "data": {
      "text/html": [
       "<div>\n",
       "<style scoped>\n",
       "    .dataframe tbody tr th:only-of-type {\n",
       "        vertical-align: middle;\n",
       "    }\n",
       "\n",
       "    .dataframe tbody tr th {\n",
       "        vertical-align: top;\n",
       "    }\n",
       "\n",
       "    .dataframe thead th {\n",
       "        text-align: right;\n",
       "    }\n",
       "</style>\n",
       "<table border=\"1\" class=\"dataframe\">\n",
       "  <thead>\n",
       "    <tr style=\"text-align: right;\">\n",
       "      <th></th>\n",
       "      <th>count</th>\n",
       "      <th>mean</th>\n",
       "      <th>std</th>\n",
       "      <th>min</th>\n",
       "      <th>25%</th>\n",
       "      <th>50%</th>\n",
       "      <th>75%</th>\n",
       "      <th>max</th>\n",
       "    </tr>\n",
       "  </thead>\n",
       "  <tbody>\n",
       "    <tr>\n",
       "      <th>gender</th>\n",
       "      <td>81.0</td>\n",
       "      <td>1.234568</td>\n",
       "      <td>0.426369</td>\n",
       "      <td>1.0</td>\n",
       "      <td>1.0</td>\n",
       "      <td>1.0</td>\n",
       "      <td>1.0</td>\n",
       "      <td>2.0</td>\n",
       "    </tr>\n",
       "    <tr>\n",
       "      <th>age</th>\n",
       "      <td>81.0</td>\n",
       "      <td>38.160494</td>\n",
       "      <td>9.648130</td>\n",
       "      <td>20.0</td>\n",
       "      <td>31.0</td>\n",
       "      <td>38.0</td>\n",
       "      <td>44.0</td>\n",
       "      <td>61.0</td>\n",
       "    </tr>\n",
       "    <tr>\n",
       "      <th>family</th>\n",
       "      <td>81.0</td>\n",
       "      <td>1.629630</td>\n",
       "      <td>0.485913</td>\n",
       "      <td>1.0</td>\n",
       "      <td>1.0</td>\n",
       "      <td>2.0</td>\n",
       "      <td>2.0</td>\n",
       "      <td>2.0</td>\n",
       "    </tr>\n",
       "    <tr>\n",
       "      <th>education</th>\n",
       "      <td>81.0</td>\n",
       "      <td>1.987654</td>\n",
       "      <td>0.844006</td>\n",
       "      <td>1.0</td>\n",
       "      <td>1.0</td>\n",
       "      <td>2.0</td>\n",
       "      <td>3.0</td>\n",
       "      <td>4.0</td>\n",
       "    </tr>\n",
       "    <tr>\n",
       "      <th>years_of_service</th>\n",
       "      <td>81.0</td>\n",
       "      <td>12.179012</td>\n",
       "      <td>8.751896</td>\n",
       "      <td>0.0</td>\n",
       "      <td>4.0</td>\n",
       "      <td>12.5</td>\n",
       "      <td>18.0</td>\n",
       "      <td>36.0</td>\n",
       "    </tr>\n",
       "    <tr>\n",
       "      <th>salary</th>\n",
       "      <td>81.0</td>\n",
       "      <td>2571.469136</td>\n",
       "      <td>851.838660</td>\n",
       "      <td>1521.0</td>\n",
       "      <td>2027.0</td>\n",
       "      <td>2340.0</td>\n",
       "      <td>2808.0</td>\n",
       "      <td>6278.0</td>\n",
       "    </tr>\n",
       "    <tr>\n",
       "      <th>sat_management</th>\n",
       "      <td>81.0</td>\n",
       "      <td>3.049383</td>\n",
       "      <td>1.059496</td>\n",
       "      <td>1.0</td>\n",
       "      <td>2.0</td>\n",
       "      <td>3.0</td>\n",
       "      <td>4.0</td>\n",
       "      <td>5.0</td>\n",
       "    </tr>\n",
       "    <tr>\n",
       "      <th>sat_colleques</th>\n",
       "      <td>81.0</td>\n",
       "      <td>4.061728</td>\n",
       "      <td>0.826826</td>\n",
       "      <td>2.0</td>\n",
       "      <td>4.0</td>\n",
       "      <td>4.0</td>\n",
       "      <td>5.0</td>\n",
       "      <td>5.0</td>\n",
       "    </tr>\n",
       "    <tr>\n",
       "      <th>sat_workingEnvironment</th>\n",
       "      <td>81.0</td>\n",
       "      <td>3.222222</td>\n",
       "      <td>1.161895</td>\n",
       "      <td>1.0</td>\n",
       "      <td>3.0</td>\n",
       "      <td>3.0</td>\n",
       "      <td>4.0</td>\n",
       "      <td>5.0</td>\n",
       "    </tr>\n",
       "    <tr>\n",
       "      <th>sat_salary</th>\n",
       "      <td>81.0</td>\n",
       "      <td>2.098765</td>\n",
       "      <td>1.113608</td>\n",
       "      <td>1.0</td>\n",
       "      <td>1.0</td>\n",
       "      <td>2.0</td>\n",
       "      <td>3.0</td>\n",
       "      <td>5.0</td>\n",
       "    </tr>\n",
       "    <tr>\n",
       "      <th>sat_tasks</th>\n",
       "      <td>81.0</td>\n",
       "      <td>3.209877</td>\n",
       "      <td>1.045419</td>\n",
       "      <td>1.0</td>\n",
       "      <td>3.0</td>\n",
       "      <td>3.0</td>\n",
       "      <td>4.0</td>\n",
       "      <td>5.0</td>\n",
       "    </tr>\n",
       "  </tbody>\n",
       "</table>\n",
       "</div>"
      ],
      "text/plain": [
       "                        count         mean         std     min     25%  \\\n",
       "gender                   81.0     1.234568    0.426369     1.0     1.0   \n",
       "age                      81.0    38.160494    9.648130    20.0    31.0   \n",
       "family                   81.0     1.629630    0.485913     1.0     1.0   \n",
       "education                81.0     1.987654    0.844006     1.0     1.0   \n",
       "years_of_service         81.0    12.179012    8.751896     0.0     4.0   \n",
       "salary                   81.0  2571.469136  851.838660  1521.0  2027.0   \n",
       "sat_management           81.0     3.049383    1.059496     1.0     2.0   \n",
       "sat_colleques            81.0     4.061728    0.826826     2.0     4.0   \n",
       "sat_workingEnvironment   81.0     3.222222    1.161895     1.0     3.0   \n",
       "sat_salary               81.0     2.098765    1.113608     1.0     1.0   \n",
       "sat_tasks                81.0     3.209877    1.045419     1.0     3.0   \n",
       "\n",
       "                           50%     75%     max  \n",
       "gender                     1.0     1.0     2.0  \n",
       "age                       38.0    44.0    61.0  \n",
       "family                     2.0     2.0     2.0  \n",
       "education                  2.0     3.0     4.0  \n",
       "years_of_service          12.5    18.0    36.0  \n",
       "salary                  2340.0  2808.0  6278.0  \n",
       "sat_management             3.0     4.0     5.0  \n",
       "sat_colleques              4.0     5.0     5.0  \n",
       "sat_workingEnvironment     3.0     4.0     5.0  \n",
       "sat_salary                 2.0     3.0     5.0  \n",
       "sat_tasks                  3.0     4.0     5.0  "
      ]
     },
     "execution_count": 4788,
     "metadata": {},
     "output_type": "execute_result"
    }
   ],
   "source": [
    "# Display basic statistics for columns.\n",
    "df.describe().T"
   ]
  },
  {
   "cell_type": "code",
   "execution_count": 4789,
   "metadata": {},
   "outputs": [
    {
     "data": {
      "text/html": [
       "<div>\n",
       "<style scoped>\n",
       "    .dataframe tbody tr th:only-of-type {\n",
       "        vertical-align: middle;\n",
       "    }\n",
       "\n",
       "    .dataframe tbody tr th {\n",
       "        vertical-align: top;\n",
       "    }\n",
       "\n",
       "    .dataframe thead th {\n",
       "        text-align: right;\n",
       "    }\n",
       "</style>\n",
       "<table border=\"1\" class=\"dataframe\">\n",
       "  <thead>\n",
       "    <tr style=\"text-align: right;\">\n",
       "      <th></th>\n",
       "      <th>gender</th>\n",
       "      <th>age</th>\n",
       "      <th>family</th>\n",
       "      <th>education</th>\n",
       "      <th>years_of_service</th>\n",
       "      <th>salary</th>\n",
       "      <th>sat_management</th>\n",
       "      <th>sat_colleques</th>\n",
       "      <th>sat_workingEnvironment</th>\n",
       "      <th>sat_salary</th>\n",
       "      <th>sat_tasks</th>\n",
       "    </tr>\n",
       "  </thead>\n",
       "  <tbody>\n",
       "    <tr>\n",
       "      <th>56</th>\n",
       "      <td>1</td>\n",
       "      <td>61</td>\n",
       "      <td>2</td>\n",
       "      <td>2.0</td>\n",
       "      <td>36.0</td>\n",
       "      <td>3119</td>\n",
       "      <td>2</td>\n",
       "      <td>4.0</td>\n",
       "      <td>2</td>\n",
       "      <td>1</td>\n",
       "      <td>5</td>\n",
       "    </tr>\n",
       "    <tr>\n",
       "      <th>44</th>\n",
       "      <td>1</td>\n",
       "      <td>55</td>\n",
       "      <td>2</td>\n",
       "      <td>1.0</td>\n",
       "      <td>35.0</td>\n",
       "      <td>2651</td>\n",
       "      <td>4</td>\n",
       "      <td>5.0</td>\n",
       "      <td>4</td>\n",
       "      <td>2</td>\n",
       "      <td>4</td>\n",
       "    </tr>\n",
       "    <tr>\n",
       "      <th>45</th>\n",
       "      <td>2</td>\n",
       "      <td>51</td>\n",
       "      <td>2</td>\n",
       "      <td>1.0</td>\n",
       "      <td>28.0</td>\n",
       "      <td>1989</td>\n",
       "      <td>3</td>\n",
       "      <td>3.0</td>\n",
       "      <td>2</td>\n",
       "      <td>2</td>\n",
       "      <td>3</td>\n",
       "    </tr>\n",
       "  </tbody>\n",
       "</table>\n",
       "</div>"
      ],
      "text/plain": [
       "    gender  age  family  education  years_of_service  salary  sat_management  \\\n",
       "56       1   61       2        2.0              36.0    3119               2   \n",
       "44       1   55       2        1.0              35.0    2651               4   \n",
       "45       2   51       2        1.0              28.0    1989               3   \n",
       "\n",
       "    sat_colleques  sat_workingEnvironment  sat_salary  sat_tasks  \n",
       "56            4.0                       2           1          5  \n",
       "44            5.0                       4           2          4  \n",
       "45            3.0                       2           2          3  "
      ]
     },
     "execution_count": 4789,
     "metadata": {},
     "output_type": "execute_result"
    }
   ],
   "source": [
    "# Finding the 3 longest service years respondents based on years_of_service\n",
    "df.nlargest(n=3, columns='years_of_service')"
   ]
  },
  {
   "cell_type": "code",
   "execution_count": 4790,
   "metadata": {},
   "outputs": [
    {
     "data": {
      "text/html": [
       "<div>\n",
       "<style scoped>\n",
       "    .dataframe tbody tr th:only-of-type {\n",
       "        vertical-align: middle;\n",
       "    }\n",
       "\n",
       "    .dataframe tbody tr th {\n",
       "        vertical-align: top;\n",
       "    }\n",
       "\n",
       "    .dataframe thead th {\n",
       "        text-align: right;\n",
       "    }\n",
       "</style>\n",
       "<table border=\"1\" class=\"dataframe\">\n",
       "  <thead>\n",
       "    <tr style=\"text-align: right;\">\n",
       "      <th></th>\n",
       "      <th>gender</th>\n",
       "      <th>age</th>\n",
       "      <th>family</th>\n",
       "      <th>education</th>\n",
       "      <th>years_of_service</th>\n",
       "      <th>salary</th>\n",
       "      <th>sat_management</th>\n",
       "      <th>sat_colleques</th>\n",
       "      <th>sat_workingEnvironment</th>\n",
       "      <th>sat_salary</th>\n",
       "      <th>sat_tasks</th>\n",
       "    </tr>\n",
       "  </thead>\n",
       "  <tbody>\n",
       "    <tr>\n",
       "      <th>7</th>\n",
       "      <td>1</td>\n",
       "      <td>55</td>\n",
       "      <td>1</td>\n",
       "      <td>1.0</td>\n",
       "      <td>0.0</td>\n",
       "      <td>2066</td>\n",
       "      <td>3</td>\n",
       "      <td>5.0</td>\n",
       "      <td>3</td>\n",
       "      <td>1</td>\n",
       "      <td>3</td>\n",
       "    </tr>\n",
       "    <tr>\n",
       "      <th>35</th>\n",
       "      <td>1</td>\n",
       "      <td>31</td>\n",
       "      <td>2</td>\n",
       "      <td>3.0</td>\n",
       "      <td>0.0</td>\n",
       "      <td>1559</td>\n",
       "      <td>2</td>\n",
       "      <td>4.0</td>\n",
       "      <td>3</td>\n",
       "      <td>1</td>\n",
       "      <td>3</td>\n",
       "    </tr>\n",
       "    <tr>\n",
       "      <th>61</th>\n",
       "      <td>1</td>\n",
       "      <td>40</td>\n",
       "      <td>2</td>\n",
       "      <td>1.0</td>\n",
       "      <td>0.0</td>\n",
       "      <td>1872</td>\n",
       "      <td>2</td>\n",
       "      <td>3.0</td>\n",
       "      <td>1</td>\n",
       "      <td>2</td>\n",
       "      <td>3</td>\n",
       "    </tr>\n",
       "  </tbody>\n",
       "</table>\n",
       "</div>"
      ],
      "text/plain": [
       "    gender  age  family  education  years_of_service  salary  sat_management  \\\n",
       "7        1   55       1        1.0               0.0    2066               3   \n",
       "35       1   31       2        3.0               0.0    1559               2   \n",
       "61       1   40       2        1.0               0.0    1872               2   \n",
       "\n",
       "    sat_colleques  sat_workingEnvironment  sat_salary  sat_tasks  \n",
       "7             5.0                       3           1          3  \n",
       "35            4.0                       3           1          3  \n",
       "61            3.0                       1           2          3  "
      ]
     },
     "execution_count": 4790,
     "metadata": {},
     "output_type": "execute_result"
    }
   ],
   "source": [
    "# Finding the 3 shortest service years respondents based on years_of_service\n",
    "df.nsmallest(n=3, columns='years_of_service')"
   ]
  },
  {
   "cell_type": "code",
   "execution_count": 4791,
   "metadata": {},
   "outputs": [
    {
     "data": {
      "text/html": [
       "<div>\n",
       "<style scoped>\n",
       "    .dataframe tbody tr th:only-of-type {\n",
       "        vertical-align: middle;\n",
       "    }\n",
       "\n",
       "    .dataframe tbody tr th {\n",
       "        vertical-align: top;\n",
       "    }\n",
       "\n",
       "    .dataframe thead th {\n",
       "        text-align: right;\n",
       "    }\n",
       "</style>\n",
       "<table border=\"1\" class=\"dataframe\">\n",
       "  <thead>\n",
       "    <tr style=\"text-align: right;\">\n",
       "      <th></th>\n",
       "      <th>gender</th>\n",
       "      <th>age</th>\n",
       "      <th>family</th>\n",
       "      <th>education</th>\n",
       "      <th>years_of_service</th>\n",
       "      <th>salary</th>\n",
       "      <th>sat_management</th>\n",
       "      <th>sat_colleques</th>\n",
       "      <th>sat_workingEnvironment</th>\n",
       "      <th>sat_salary</th>\n",
       "      <th>sat_tasks</th>\n",
       "    </tr>\n",
       "  </thead>\n",
       "  <tbody>\n",
       "    <tr>\n",
       "      <th>56</th>\n",
       "      <td>1</td>\n",
       "      <td>61</td>\n",
       "      <td>2</td>\n",
       "      <td>2.0</td>\n",
       "      <td>36.0</td>\n",
       "      <td>3119</td>\n",
       "      <td>2</td>\n",
       "      <td>4.0</td>\n",
       "      <td>2</td>\n",
       "      <td>1</td>\n",
       "      <td>5</td>\n",
       "    </tr>\n",
       "    <tr>\n",
       "      <th>32</th>\n",
       "      <td>1</td>\n",
       "      <td>59</td>\n",
       "      <td>2</td>\n",
       "      <td>3.0</td>\n",
       "      <td>15.0</td>\n",
       "      <td>6278</td>\n",
       "      <td>4</td>\n",
       "      <td>4.0</td>\n",
       "      <td>5</td>\n",
       "      <td>4</td>\n",
       "      <td>4</td>\n",
       "    </tr>\n",
       "    <tr>\n",
       "      <th>13</th>\n",
       "      <td>1</td>\n",
       "      <td>58</td>\n",
       "      <td>2</td>\n",
       "      <td>3.0</td>\n",
       "      <td>21.0</td>\n",
       "      <td>3587</td>\n",
       "      <td>4</td>\n",
       "      <td>5.0</td>\n",
       "      <td>4</td>\n",
       "      <td>1</td>\n",
       "      <td>3</td>\n",
       "    </tr>\n",
       "  </tbody>\n",
       "</table>\n",
       "</div>"
      ],
      "text/plain": [
       "    gender  age  family  education  years_of_service  salary  sat_management  \\\n",
       "56       1   61       2        2.0              36.0    3119               2   \n",
       "32       1   59       2        3.0              15.0    6278               4   \n",
       "13       1   58       2        3.0              21.0    3587               4   \n",
       "\n",
       "    sat_colleques  sat_workingEnvironment  sat_salary  sat_tasks  \n",
       "56            4.0                       2           1          5  \n",
       "32            4.0                       5           4          4  \n",
       "13            5.0                       4           1          3  "
      ]
     },
     "execution_count": 4791,
     "metadata": {},
     "output_type": "execute_result"
    }
   ],
   "source": [
    "# Finding the 3 oldest respondents based on age\n",
    "df.nlargest(n=3, columns='age')"
   ]
  },
  {
   "cell_type": "code",
   "execution_count": 4792,
   "metadata": {},
   "outputs": [
    {
     "data": {
      "text/html": [
       "<div>\n",
       "<style scoped>\n",
       "    .dataframe tbody tr th:only-of-type {\n",
       "        vertical-align: middle;\n",
       "    }\n",
       "\n",
       "    .dataframe tbody tr th {\n",
       "        vertical-align: top;\n",
       "    }\n",
       "\n",
       "    .dataframe thead th {\n",
       "        text-align: right;\n",
       "    }\n",
       "</style>\n",
       "<table border=\"1\" class=\"dataframe\">\n",
       "  <thead>\n",
       "    <tr style=\"text-align: right;\">\n",
       "      <th></th>\n",
       "      <th>gender</th>\n",
       "      <th>age</th>\n",
       "      <th>family</th>\n",
       "      <th>education</th>\n",
       "      <th>years_of_service</th>\n",
       "      <th>salary</th>\n",
       "      <th>sat_management</th>\n",
       "      <th>sat_colleques</th>\n",
       "      <th>sat_workingEnvironment</th>\n",
       "      <th>sat_salary</th>\n",
       "      <th>sat_tasks</th>\n",
       "    </tr>\n",
       "  </thead>\n",
       "  <tbody>\n",
       "    <tr>\n",
       "      <th>58</th>\n",
       "      <td>1</td>\n",
       "      <td>20</td>\n",
       "      <td>1</td>\n",
       "      <td>2.0</td>\n",
       "      <td>1.0</td>\n",
       "      <td>2261</td>\n",
       "      <td>3</td>\n",
       "      <td>4.0</td>\n",
       "      <td>3</td>\n",
       "      <td>2</td>\n",
       "      <td>3</td>\n",
       "    </tr>\n",
       "    <tr>\n",
       "      <th>30</th>\n",
       "      <td>1</td>\n",
       "      <td>21</td>\n",
       "      <td>1</td>\n",
       "      <td>3.0</td>\n",
       "      <td>1.0</td>\n",
       "      <td>2340</td>\n",
       "      <td>4</td>\n",
       "      <td>5.0</td>\n",
       "      <td>3</td>\n",
       "      <td>4</td>\n",
       "      <td>2</td>\n",
       "    </tr>\n",
       "    <tr>\n",
       "      <th>46</th>\n",
       "      <td>2</td>\n",
       "      <td>22</td>\n",
       "      <td>1</td>\n",
       "      <td>3.0</td>\n",
       "      <td>21.0</td>\n",
       "      <td>1872</td>\n",
       "      <td>3</td>\n",
       "      <td>3.0</td>\n",
       "      <td>4</td>\n",
       "      <td>1</td>\n",
       "      <td>3</td>\n",
       "    </tr>\n",
       "  </tbody>\n",
       "</table>\n",
       "</div>"
      ],
      "text/plain": [
       "    gender  age  family  education  years_of_service  salary  sat_management  \\\n",
       "58       1   20       1        2.0               1.0    2261               3   \n",
       "30       1   21       1        3.0               1.0    2340               4   \n",
       "46       2   22       1        3.0              21.0    1872               3   \n",
       "\n",
       "    sat_colleques  sat_workingEnvironment  sat_salary  sat_tasks  \n",
       "58            4.0                       3           2          3  \n",
       "30            5.0                       3           4          2  \n",
       "46            3.0                       4           1          3  "
      ]
     },
     "execution_count": 4792,
     "metadata": {},
     "output_type": "execute_result"
    }
   ],
   "source": [
    "# Finding the 3 youngest respondents based on age\n",
    "df.nsmallest(n=3, columns='age')"
   ]
  },
  {
   "cell_type": "markdown",
   "metadata": {},
   "source": [
    "## 2.Visualizations for data\n",
    "\n",
    "we create some visualizations to better understand the distribution of the data. "
   ]
  },
  {
   "cell_type": "markdown",
   "metadata": {},
   "source": [
    "#### Categorical Variables\n",
    "1.1  Visualizing the education Distribution."
   ]
  },
  {
   "cell_type": "code",
   "execution_count": 4793,
   "metadata": {},
   "outputs": [
    {
     "data": {
      "text/html": [
       "<div>\n",
       "<style scoped>\n",
       "    .dataframe tbody tr th:only-of-type {\n",
       "        vertical-align: middle;\n",
       "    }\n",
       "\n",
       "    .dataframe tbody tr th {\n",
       "        vertical-align: top;\n",
       "    }\n",
       "\n",
       "    .dataframe thead th {\n",
       "        text-align: right;\n",
       "    }\n",
       "</style>\n",
       "<table border=\"1\" class=\"dataframe\">\n",
       "  <thead>\n",
       "    <tr style=\"text-align: right;\">\n",
       "      <th></th>\n",
       "      <th>Count</th>\n",
       "    </tr>\n",
       "  </thead>\n",
       "  <tbody>\n",
       "    <tr>\n",
       "      <th>primary school</th>\n",
       "      <td>27</td>\n",
       "    </tr>\n",
       "    <tr>\n",
       "      <th>secondary school graduate</th>\n",
       "      <td>30</td>\n",
       "    </tr>\n",
       "    <tr>\n",
       "      <th>bachelor level</th>\n",
       "      <td>22</td>\n",
       "    </tr>\n",
       "    <tr>\n",
       "      <th>master level</th>\n",
       "      <td>2</td>\n",
       "    </tr>\n",
       "  </tbody>\n",
       "</table>\n",
       "</div>"
      ],
      "text/plain": [
       "                           Count\n",
       "primary school                27\n",
       "secondary school graduate     30\n",
       "bachelor level                22\n",
       "master level                   2"
      ]
     },
     "execution_count": 4793,
     "metadata": {},
     "output_type": "execute_result"
    }
   ],
   "source": [
    "# Investigate educaiton and count table\n",
    "df1=pd.crosstab(df['education'], 'Count')\n",
    "# Labeling the index with meaningful education categories\n",
    "df1.index=['primary school','secondary school graduate','bachelor level','master level']\n",
    "# Remove the name of the columns\n",
    "df1.columns.name=''\n",
    "df1"
   ]
  },
  {
   "cell_type": "markdown",
   "metadata": {},
   "source": [
    "### Visualizing the Education Distribution\n",
    "\n",
    "1.we visualize the distribution using a horizontal bar chart. Bar charts are useful for comparing the sizes of different categories visually."
   ]
  },
  {
   "cell_type": "code",
   "execution_count": 4794,
   "metadata": {},
   "outputs": [
    {
     "data": {
      "text/plain": [
       "81"
      ]
     },
     "execution_count": 4794,
     "metadata": {},
     "output_type": "execute_result"
    }
   ],
   "source": [
    "sum(df1['Count'])"
   ]
  },
  {
   "cell_type": "code",
   "execution_count": 4795,
   "metadata": {},
   "outputs": [
    {
     "data": {
      "text/plain": [
       "Text(0.5, 0, 'Count, N = 81')"
      ]
     },
     "execution_count": 4795,
     "metadata": {},
     "output_type": "execute_result"
    },
    {
     "data": {
      "image/png": "[encoded data removed]",
      "text/plain": [
       "<Figure size 640x480 with 1 Axes>"
      ]
     },
     "metadata": {},
     "output_type": "display_data"
    }
   ],
   "source": [
    "df1.plot.barh(legend = False)\n",
    "plt.title('Education distribution')\n",
    "plt.xlabel('Count, N = 81')\n"
   ]
  },
  {
   "cell_type": "markdown",
   "metadata": {},
   "source": [
    "1.2  Visualizing the Education Distribution with Percentages."
   ]
  },
  {
   "cell_type": "code",
   "execution_count": 4796,
   "metadata": {},
   "outputs": [
    {
     "data": {
      "text/html": [
       "<div>\n",
       "<style scoped>\n",
       "    .dataframe tbody tr th:only-of-type {\n",
       "        vertical-align: middle;\n",
       "    }\n",
       "\n",
       "    .dataframe tbody tr th {\n",
       "        vertical-align: top;\n",
       "    }\n",
       "\n",
       "    .dataframe thead th {\n",
       "        text-align: right;\n",
       "    }\n",
       "</style>\n",
       "<table border=\"1\" class=\"dataframe\">\n",
       "  <thead>\n",
       "    <tr style=\"text-align: right;\">\n",
       "      <th></th>\n",
       "      <th>Count</th>\n",
       "      <th>percentage</th>\n",
       "    </tr>\n",
       "  </thead>\n",
       "  <tbody>\n",
       "    <tr>\n",
       "      <th>primary school</th>\n",
       "      <td>27</td>\n",
       "      <td>33.33</td>\n",
       "    </tr>\n",
       "    <tr>\n",
       "      <th>secondary school graduate</th>\n",
       "      <td>30</td>\n",
       "      <td>37.04</td>\n",
       "    </tr>\n",
       "    <tr>\n",
       "      <th>bachelor level</th>\n",
       "      <td>22</td>\n",
       "      <td>27.16</td>\n",
       "    </tr>\n",
       "    <tr>\n",
       "      <th>master level</th>\n",
       "      <td>2</td>\n",
       "      <td>2.47</td>\n",
       "    </tr>\n",
       "  </tbody>\n",
       "</table>\n",
       "</div>"
      ],
      "text/plain": [
       "                           Count  percentage\n",
       "primary school                27       33.33\n",
       "secondary school graduate     30       37.04\n",
       "bachelor level                22       27.16\n",
       "master level                   2        2.47"
      ]
     },
     "execution_count": 4796,
     "metadata": {},
     "output_type": "execute_result"
    }
   ],
   "source": [
    "df2 = pd.crosstab(df['education'], 'Count')\n",
    "df2['percentage'] = round(df2['Count'] / df2['Count'].sum() * 100,2)\n",
    "df2.index=['primary school','secondary school graduate','bachelor level','master level']\n",
    "df2.columns.name = ''\n",
    "df2"
   ]
  },
  {
   "cell_type": "code",
   "execution_count": 4797,
   "metadata": {},
   "outputs": [
    {
     "data": {
      "text/plain": [
       "str"
      ]
     },
     "execution_count": 4797,
     "metadata": {},
     "output_type": "execute_result"
    }
   ],
   "source": [
    "type(df2.index.values[0])"
   ]
  },
  {
   "cell_type": "code",
   "execution_count": 4798,
   "metadata": {},
   "outputs": [
    {
     "data": {
      "text/html": [
       "<div>\n",
       "<style scoped>\n",
       "    .dataframe tbody tr th:only-of-type {\n",
       "        vertical-align: middle;\n",
       "    }\n",
       "\n",
       "    .dataframe tbody tr th {\n",
       "        vertical-align: top;\n",
       "    }\n",
       "\n",
       "    .dataframe thead th {\n",
       "        text-align: right;\n",
       "    }\n",
       "</style>\n",
       "<table border=\"1\" class=\"dataframe\">\n",
       "  <thead>\n",
       "    <tr style=\"text-align: right;\">\n",
       "      <th></th>\n",
       "      <th>Count</th>\n",
       "      <th>percentage</th>\n",
       "    </tr>\n",
       "  </thead>\n",
       "  <tbody>\n",
       "    <tr>\n",
       "      <th>primary school</th>\n",
       "      <td>27.0</td>\n",
       "      <td>33.33</td>\n",
       "    </tr>\n",
       "    <tr>\n",
       "      <th>secondary school graduate</th>\n",
       "      <td>30.0</td>\n",
       "      <td>37.04</td>\n",
       "    </tr>\n",
       "    <tr>\n",
       "      <th>bachelor level</th>\n",
       "      <td>22.0</td>\n",
       "      <td>27.16</td>\n",
       "    </tr>\n",
       "    <tr>\n",
       "      <th>master level</th>\n",
       "      <td>2.0</td>\n",
       "      <td>2.47</td>\n",
       "    </tr>\n",
       "    <tr>\n",
       "      <th>Total</th>\n",
       "      <td>81.0</td>\n",
       "      <td>100.00</td>\n",
       "    </tr>\n",
       "  </tbody>\n",
       "</table>\n",
       "</div>"
      ],
      "text/plain": [
       "                           Count  percentage\n",
       "primary school              27.0       33.33\n",
       "secondary school graduate   30.0       37.04\n",
       "bachelor level              22.0       27.16\n",
       "master level                 2.0        2.47\n",
       "Total                       81.0      100.00"
      ]
     },
     "execution_count": 4798,
     "metadata": {},
     "output_type": "execute_result"
    }
   ],
   "source": [
    "df2.loc['Total'] = df2.sum()\n",
    "df2"
   ]
  },
  {
   "cell_type": "code",
   "execution_count": 4799,
   "metadata": {},
   "outputs": [
    {
     "data": {
      "text/html": [
       "<style type=\"text/css\">\n",
       "</style>\n",
       "<table id=\"T_af989\">\n",
       "  <thead>\n",
       "    <tr>\n",
       "      <th class=\"index_name level0\" ></th>\n",
       "      <th id=\"T_af989_level0_col0\" class=\"col_heading level0 col0\" >Count</th>\n",
       "      <th id=\"T_af989_level0_col1\" class=\"col_heading level0 col1\" >percentage</th>\n",
       "    </tr>\n",
       "  </thead>\n",
       "  <tbody>\n",
       "    <tr>\n",
       "      <th id=\"T_af989_level0_row0\" class=\"row_heading level0 row0\" >primary school</th>\n",
       "      <td id=\"T_af989_row0_col0\" class=\"data row0 col0\" >27</td>\n",
       "      <td id=\"T_af989_row0_col1\" class=\"data row0 col1\" >33.3 %</td>\n",
       "    </tr>\n",
       "    <tr>\n",
       "      <th id=\"T_af989_level0_row1\" class=\"row_heading level0 row1\" >secondary school graduate</th>\n",
       "      <td id=\"T_af989_row1_col0\" class=\"data row1 col0\" >30</td>\n",
       "      <td id=\"T_af989_row1_col1\" class=\"data row1 col1\" >37.0 %</td>\n",
       "    </tr>\n",
       "    <tr>\n",
       "      <th id=\"T_af989_level0_row2\" class=\"row_heading level0 row2\" >bachelor level</th>\n",
       "      <td id=\"T_af989_row2_col0\" class=\"data row2 col0\" >22</td>\n",
       "      <td id=\"T_af989_row2_col1\" class=\"data row2 col1\" >27.2 %</td>\n",
       "    </tr>\n",
       "    <tr>\n",
       "      <th id=\"T_af989_level0_row3\" class=\"row_heading level0 row3\" >master level</th>\n",
       "      <td id=\"T_af989_row3_col0\" class=\"data row3 col0\" >2</td>\n",
       "      <td id=\"T_af989_row3_col1\" class=\"data row3 col1\" >2.5 %</td>\n",
       "    </tr>\n",
       "    <tr>\n",
       "      <th id=\"T_af989_level0_row4\" class=\"row_heading level0 row4\" >Total</th>\n",
       "      <td id=\"T_af989_row4_col0\" class=\"data row4 col0\" >81</td>\n",
       "      <td id=\"T_af989_row4_col1\" class=\"data row4 col1\" >100.0 %</td>\n",
       "    </tr>\n",
       "  </tbody>\n",
       "</table>\n"
      ],
      "text/plain": [
       "<pandas.io.formats.style.Styler at 0x2d5124080>"
      ]
     },
     "execution_count": 4799,
     "metadata": {},
     "output_type": "execute_result"
    }
   ],
   "source": [
    "#Finalizing the layout\n",
    "df2.style.format({'Count': '{:.0f}', 'percentage': '{:.1f} %'})"
   ]
  },
  {
   "cell_type": "code",
   "execution_count": 4800,
   "metadata": {},
   "outputs": [
    {
     "data": {
      "image/png": "[encoded data removed]",
      "text/plain": [
       "<Figure size 640x480 with 1 Axes>"
      ]
     },
     "metadata": {},
     "output_type": "display_data"
    }
   ],
   "source": [
    "df2['percentage'].plot.barh(zorder = 2)\n",
    "plt.title('Education percentage distribution')\n",
    "\n",
    "plt.xlabel('percentage, n = 81')\n",
    "\n",
    "plt.grid(axis = 'x')\n",
    "plt.tick_params(axis = 'y', length = 0)"
   ]
  },
  {
   "cell_type": "markdown",
   "metadata": {},
   "source": [
    "2. Visualizing the family Distribution."
   ]
  },
  {
   "cell_type": "code",
   "execution_count": 4801,
   "metadata": {},
   "outputs": [
    {
     "data": {
      "text/html": [
       "<div>\n",
       "<style scoped>\n",
       "    .dataframe tbody tr th:only-of-type {\n",
       "        vertical-align: middle;\n",
       "    }\n",
       "\n",
       "    .dataframe tbody tr th {\n",
       "        vertical-align: top;\n",
       "    }\n",
       "\n",
       "    .dataframe thead th {\n",
       "        text-align: right;\n",
       "    }\n",
       "</style>\n",
       "<table border=\"1\" class=\"dataframe\">\n",
       "  <thead>\n",
       "    <tr style=\"text-align: right;\">\n",
       "      <th></th>\n",
       "      <th>Count</th>\n",
       "    </tr>\n",
       "  </thead>\n",
       "  <tbody>\n",
       "    <tr>\n",
       "      <th>single</th>\n",
       "      <td>30</td>\n",
       "    </tr>\n",
       "    <tr>\n",
       "      <th>not single</th>\n",
       "      <td>51</td>\n",
       "    </tr>\n",
       "  </tbody>\n",
       "</table>\n",
       "</div>"
      ],
      "text/plain": [
       "            Count\n",
       "single         30\n",
       "not single     51"
      ]
     },
     "execution_count": 4801,
     "metadata": {},
     "output_type": "execute_result"
    }
   ],
   "source": [
    "# Investigate educaiton and count table\n",
    "df7=pd.crosstab(df['family'], 'Count')\n",
    "# Labeling the index with meaningful family categories\n",
    "df7.index=['single','not single']\n",
    "# Remove the name of the columns\n",
    "df7.columns.name=''\n",
    "df7"
   ]
  },
  {
   "cell_type": "code",
   "execution_count": 4802,
   "metadata": {},
   "outputs": [
    {
     "data": {
      "text/plain": [
       "81"
      ]
     },
     "execution_count": 4802,
     "metadata": {},
     "output_type": "execute_result"
    }
   ],
   "source": [
    "sum(df7['Count'])"
   ]
  },
  {
   "cell_type": "code",
   "execution_count": 4803,
   "metadata": {},
   "outputs": [
    {
     "data": {
      "text/plain": [
       "Text(0.5, 0, 'Count, N = 81')"
      ]
     },
     "execution_count": 4803,
     "metadata": {},
     "output_type": "execute_result"
    },
    {
     "data": {
      "image/png": "[encoded data removed]",
      "text/plain": [
       "<Figure size 640x480 with 1 Axes>"
      ]
     },
     "metadata": {},
     "output_type": "display_data"
    }
   ],
   "source": [
    "df7.plot.barh(legend = False)\n",
    "plt.title('family distribution')\n",
    "plt.xlabel('Count, N = 81')\n"
   ]
  },
  {
   "cell_type": "markdown",
   "metadata": {},
   "source": [
    "3. Visualizing the gender Distribution."
   ]
  },
  {
   "cell_type": "code",
   "execution_count": 4804,
   "metadata": {},
   "outputs": [
    {
     "data": {
      "text/html": [
       "<div>\n",
       "<style scoped>\n",
       "    .dataframe tbody tr th:only-of-type {\n",
       "        vertical-align: middle;\n",
       "    }\n",
       "\n",
       "    .dataframe tbody tr th {\n",
       "        vertical-align: top;\n",
       "    }\n",
       "\n",
       "    .dataframe thead th {\n",
       "        text-align: right;\n",
       "    }\n",
       "</style>\n",
       "<table border=\"1\" class=\"dataframe\">\n",
       "  <thead>\n",
       "    <tr style=\"text-align: right;\">\n",
       "      <th></th>\n",
       "      <th>Count</th>\n",
       "    </tr>\n",
       "  </thead>\n",
       "  <tbody>\n",
       "    <tr>\n",
       "      <th>man</th>\n",
       "      <td>62</td>\n",
       "    </tr>\n",
       "    <tr>\n",
       "      <th>woman</th>\n",
       "      <td>19</td>\n",
       "    </tr>\n",
       "  </tbody>\n",
       "</table>\n",
       "</div>"
      ],
      "text/plain": [
       "       Count\n",
       "man       62\n",
       "woman     19"
      ]
     },
     "execution_count": 4804,
     "metadata": {},
     "output_type": "execute_result"
    }
   ],
   "source": [
    "# Investigate gender and count table\n",
    "df9=pd.crosstab(df['gender'], 'Count')\n",
    "# Labeling the index with meaningful gender categories\n",
    "df9.index=['man','woman']\n",
    "# Remove the name of the columns\n",
    "df9.columns.name=''\n",
    "df9"
   ]
  },
  {
   "cell_type": "code",
   "execution_count": 4805,
   "metadata": {},
   "outputs": [
    {
     "data": {
      "text/plain": [
       "Text(0.5, 0, 'Count, N = 81')"
      ]
     },
     "execution_count": 4805,
     "metadata": {},
     "output_type": "execute_result"
    },
    {
     "data": {
      "image/png": "[encoded data removed]",
      "text/plain": [
       "<Figure size 640x480 with 1 Axes>"
      ]
     },
     "metadata": {},
     "output_type": "display_data"
    }
   ],
   "source": [
    "df9.plot.barh(legend = False)\n",
    "plt.title('gender distribution')\n",
    "plt.xlabel('Count, N = 81')"
   ]
  },
  {
   "cell_type": "code",
   "execution_count": 4806,
   "metadata": {},
   "outputs": [
    {
     "data": {
      "text/plain": [
       "81"
      ]
     },
     "execution_count": 4806,
     "metadata": {},
     "output_type": "execute_result"
    }
   ],
   "source": [
    "sum(df7['Count'])"
   ]
  },
  {
   "cell_type": "markdown",
   "metadata": {},
   "source": [
    "4.Visualizing the sat_managememt data"
   ]
  },
  {
   "cell_type": "code",
   "execution_count": 4807,
   "metadata": {},
   "outputs": [
    {
     "data": {
      "text/html": [
       "<div>\n",
       "<style scoped>\n",
       "    .dataframe tbody tr th:only-of-type {\n",
       "        vertical-align: middle;\n",
       "    }\n",
       "\n",
       "    .dataframe tbody tr th {\n",
       "        vertical-align: top;\n",
       "    }\n",
       "\n",
       "    .dataframe thead th {\n",
       "        text-align: right;\n",
       "    }\n",
       "</style>\n",
       "<table border=\"1\" class=\"dataframe\">\n",
       "  <thead>\n",
       "    <tr style=\"text-align: right;\">\n",
       "      <th></th>\n",
       "      <th>Count</th>\n",
       "      <th>Percentage</th>\n",
       "    </tr>\n",
       "  </thead>\n",
       "  <tbody>\n",
       "    <tr>\n",
       "      <th>Very Unsatisfied</th>\n",
       "      <td>7</td>\n",
       "      <td>8.64%</td>\n",
       "    </tr>\n",
       "    <tr>\n",
       "      <th>Unsatisfied</th>\n",
       "      <td>16</td>\n",
       "      <td>19.75%</td>\n",
       "    </tr>\n",
       "    <tr>\n",
       "      <th>Neutral</th>\n",
       "      <td>30</td>\n",
       "      <td>37.04%</td>\n",
       "    </tr>\n",
       "    <tr>\n",
       "      <th>Satisfied</th>\n",
       "      <td>22</td>\n",
       "      <td>27.16%</td>\n",
       "    </tr>\n",
       "    <tr>\n",
       "      <th>Very Satisfied</th>\n",
       "      <td>6</td>\n",
       "      <td>7.41%</td>\n",
       "    </tr>\n",
       "  </tbody>\n",
       "</table>\n",
       "</div>"
      ],
      "text/plain": [
       "                  Count Percentage\n",
       "Very Unsatisfied      7      8.64%\n",
       "Unsatisfied          16     19.75%\n",
       "Neutral              30     37.04%\n",
       "Satisfied            22     27.16%\n",
       "Very Satisfied        6      7.41%"
      ]
     },
     "execution_count": 4807,
     "metadata": {},
     "output_type": "execute_result"
    }
   ],
   "source": [
    "# Investigate a few qualitative variables and generate frequency table(s) for their values\n",
    "df12=pd.crosstab(df['sat_management'], 'Count')\n",
    "# Labeling the index with meaningful sat_management categories\n",
    "df12.index=['Very Unsatisfied', 'Unsatisfied', 'Neutral', 'Satisfied', 'Very Satisfied']\n",
    "# Remove the name of the columns\n",
    "df12.columns.name=''\n",
    "#Calculate the percentage and add it as a new column.\n",
    "df12['Percentage'] = (df12['Count'] / df12['Count'].sum() * 100).map(\"{:.2f}%\".format)\n",
    "df12"
   ]
  },
  {
   "cell_type": "code",
   "execution_count": 4808,
   "metadata": {},
   "outputs": [
    {
     "data": {
      "image/png": "[encoded data removed]",
      "text/plain": [
       "<Figure size 800x800 with 1 Axes>"
      ]
     },
     "metadata": {},
     "output_type": "display_data"
    }
   ],
   "source": [
    "plt.figure(figsize=(8, 8))\n",
    "plt.pie(df12['Count'], labels=df12.index, autopct='%1.2f%%', startangle=90)\n",
    "total_count = df12['Count'].sum()\n",
    "plt.title(f'Satisfaction Level Distribution')\n",
    "plt.axis('equal')\n",
    "plt.show()"
   ]
  },
  {
   "cell_type": "markdown",
   "metadata": {},
   "source": [
    "#### Numerical Variable\n",
    "1.1. Visualizing the Salary Distribution(Boxplots chart)."
   ]
  },
  {
   "cell_type": "code",
   "execution_count": 4809,
   "metadata": {},
   "outputs": [
    {
     "data": {
      "image/png": "[encoded data removed]",
      "text/plain": [
       "<Figure size 640x480 with 1 Axes>"
      ]
     },
     "metadata": {},
     "output_type": "display_data"
    }
   ],
   "source": [
    "# Visualize the distribution of salary\n",
    "ax1 = sns.boxplot(x=df['salary'])\n",
    "ax1.set_xlabel('Salary, n=' + str(df['salary'].count()))\n",
    "plt.show()"
   ]
  },
  {
   "cell_type": "markdown",
   "metadata": {},
   "source": [
    "\n",
    "1.2. Visualizing the Salary Distribution(hist chart)."
   ]
  },
  {
   "cell_type": "code",
   "execution_count": 4810,
   "metadata": {},
   "outputs": [
    {
     "data": {
      "text/plain": [
       "1521"
      ]
     },
     "execution_count": 4810,
     "metadata": {},
     "output_type": "execute_result"
    }
   ],
   "source": [
    "min(df['salary'])"
   ]
  },
  {
   "cell_type": "code",
   "execution_count": 4811,
   "metadata": {},
   "outputs": [
    {
     "data": {
      "text/plain": [
       "6278"
      ]
     },
     "execution_count": 4811,
     "metadata": {},
     "output_type": "execute_result"
    }
   ],
   "source": [
    "max(df['salary'])"
   ]
  },
  {
   "cell_type": "code",
   "execution_count": 4812,
   "metadata": {},
   "outputs": [
    {
     "data": {
      "text/html": [
       "<div>\n",
       "<style scoped>\n",
       "    .dataframe tbody tr th:only-of-type {\n",
       "        vertical-align: middle;\n",
       "    }\n",
       "\n",
       "    .dataframe tbody tr th {\n",
       "        vertical-align: top;\n",
       "    }\n",
       "\n",
       "    .dataframe thead th {\n",
       "        text-align: right;\n",
       "    }\n",
       "</style>\n",
       "<table border=\"1\" class=\"dataframe\">\n",
       "  <thead>\n",
       "    <tr style=\"text-align: right;\">\n",
       "      <th></th>\n",
       "      <th>gender</th>\n",
       "      <th>age</th>\n",
       "      <th>family</th>\n",
       "      <th>education</th>\n",
       "      <th>years_of_service</th>\n",
       "      <th>salary</th>\n",
       "      <th>sat_management</th>\n",
       "      <th>sat_colleques</th>\n",
       "      <th>sat_workingEnvironment</th>\n",
       "      <th>sat_salary</th>\n",
       "      <th>sat_tasks</th>\n",
       "      <th>salary_class</th>\n",
       "    </tr>\n",
       "  </thead>\n",
       "  <tbody>\n",
       "    <tr>\n",
       "      <th>0</th>\n",
       "      <td>1</td>\n",
       "      <td>38</td>\n",
       "      <td>1</td>\n",
       "      <td>1.0</td>\n",
       "      <td>22.0</td>\n",
       "      <td>3587</td>\n",
       "      <td>3</td>\n",
       "      <td>3.0</td>\n",
       "      <td>3</td>\n",
       "      <td>3</td>\n",
       "      <td>3</td>\n",
       "      <td>(3000, 4000]</td>\n",
       "    </tr>\n",
       "    <tr>\n",
       "      <th>1</th>\n",
       "      <td>1</td>\n",
       "      <td>29</td>\n",
       "      <td>2</td>\n",
       "      <td>2.0</td>\n",
       "      <td>10.0</td>\n",
       "      <td>2963</td>\n",
       "      <td>1</td>\n",
       "      <td>5.0</td>\n",
       "      <td>2</td>\n",
       "      <td>1</td>\n",
       "      <td>3</td>\n",
       "      <td>(2000, 3000]</td>\n",
       "    </tr>\n",
       "    <tr>\n",
       "      <th>2</th>\n",
       "      <td>1</td>\n",
       "      <td>30</td>\n",
       "      <td>1</td>\n",
       "      <td>1.0</td>\n",
       "      <td>7.0</td>\n",
       "      <td>1989</td>\n",
       "      <td>3</td>\n",
       "      <td>4.0</td>\n",
       "      <td>1</td>\n",
       "      <td>1</td>\n",
       "      <td>3</td>\n",
       "      <td>(1000, 2000]</td>\n",
       "    </tr>\n",
       "    <tr>\n",
       "      <th>3</th>\n",
       "      <td>1</td>\n",
       "      <td>36</td>\n",
       "      <td>2</td>\n",
       "      <td>1.0</td>\n",
       "      <td>14.0</td>\n",
       "      <td>2144</td>\n",
       "      <td>3</td>\n",
       "      <td>3.0</td>\n",
       "      <td>3</td>\n",
       "      <td>3</td>\n",
       "      <td>3</td>\n",
       "      <td>(2000, 3000]</td>\n",
       "    </tr>\n",
       "    <tr>\n",
       "      <th>4</th>\n",
       "      <td>1</td>\n",
       "      <td>24</td>\n",
       "      <td>1</td>\n",
       "      <td>2.0</td>\n",
       "      <td>4.0</td>\n",
       "      <td>2183</td>\n",
       "      <td>2</td>\n",
       "      <td>3.0</td>\n",
       "      <td>2</td>\n",
       "      <td>1</td>\n",
       "      <td>2</td>\n",
       "      <td>(2000, 3000]</td>\n",
       "    </tr>\n",
       "  </tbody>\n",
       "</table>\n",
       "</div>"
      ],
      "text/plain": [
       "   gender  age  family  education  years_of_service  salary  sat_management  \\\n",
       "0       1   38       1        1.0              22.0    3587               3   \n",
       "1       1   29       2        2.0              10.0    2963               1   \n",
       "2       1   30       1        1.0               7.0    1989               3   \n",
       "3       1   36       2        1.0              14.0    2144               3   \n",
       "4       1   24       1        2.0               4.0    2183               2   \n",
       "\n",
       "   sat_colleques  sat_workingEnvironment  sat_salary  sat_tasks  salary_class  \n",
       "0            3.0                       3           3          3  (3000, 4000]  \n",
       "1            5.0                       2           1          3  (2000, 3000]  \n",
       "2            4.0                       1           1          3  (1000, 2000]  \n",
       "3            3.0                       3           3          3  (2000, 3000]  \n",
       "4            3.0                       2           1          2  (2000, 3000]  "
      ]
     },
     "execution_count": 4812,
     "metadata": {},
     "output_type": "execute_result"
    }
   ],
   "source": [
    "bins = [1000,2000,3000,4000,5000,6000,7000]\n",
    "df['salary_class'] = pd.cut(df['salary'], bins = bins)\n",
    "df.head()"
   ]
  },
  {
   "cell_type": "code",
   "execution_count": 4813,
   "metadata": {},
   "outputs": [],
   "source": [
    "df3 = pd.crosstab(df['salary_class'], 'Count')\n",
    "df3.columns.name = ''\n",
    "n = df3['Count'].sum()\n",
    "# add a percentage in the df3 table\n",
    "df3['percentage'] = round(df3['Count']/df3['Count'].sum() * 100,2)\n"
   ]
  },
  {
   "cell_type": "code",
   "execution_count": 4814,
   "metadata": {},
   "outputs": [
    {
     "data": {
      "text/plain": [
       "pandas._libs.interval.Interval"
      ]
     },
     "execution_count": 4814,
     "metadata": {},
     "output_type": "execute_result"
    }
   ],
   "source": [
    "type(df3.index.values[0])"
   ]
  },
  {
   "cell_type": "code",
   "execution_count": 4815,
   "metadata": {},
   "outputs": [
    {
     "data": {
      "text/html": [
       "<div>\n",
       "<style scoped>\n",
       "    .dataframe tbody tr th:only-of-type {\n",
       "        vertical-align: middle;\n",
       "    }\n",
       "\n",
       "    .dataframe tbody tr th {\n",
       "        vertical-align: top;\n",
       "    }\n",
       "\n",
       "    .dataframe thead th {\n",
       "        text-align: right;\n",
       "    }\n",
       "</style>\n",
       "<table border=\"1\" class=\"dataframe\">\n",
       "  <thead>\n",
       "    <tr style=\"text-align: right;\">\n",
       "      <th></th>\n",
       "      <th>Count</th>\n",
       "      <th>percentage</th>\n",
       "    </tr>\n",
       "    <tr>\n",
       "      <th>salary_class</th>\n",
       "      <th></th>\n",
       "      <th></th>\n",
       "    </tr>\n",
       "  </thead>\n",
       "  <tbody>\n",
       "    <tr>\n",
       "      <th>(1000, 2000]</th>\n",
       "      <td>18.0</td>\n",
       "      <td>22.22</td>\n",
       "    </tr>\n",
       "    <tr>\n",
       "      <th>(2000, 3000]</th>\n",
       "      <td>50.0</td>\n",
       "      <td>61.73</td>\n",
       "    </tr>\n",
       "    <tr>\n",
       "      <th>(3000, 4000]</th>\n",
       "      <td>8.0</td>\n",
       "      <td>9.88</td>\n",
       "    </tr>\n",
       "    <tr>\n",
       "      <th>(4000, 5000]</th>\n",
       "      <td>2.0</td>\n",
       "      <td>2.47</td>\n",
       "    </tr>\n",
       "    <tr>\n",
       "      <th>(5000, 6000]</th>\n",
       "      <td>2.0</td>\n",
       "      <td>2.47</td>\n",
       "    </tr>\n",
       "    <tr>\n",
       "      <th>(6000, 7000]</th>\n",
       "      <td>1.0</td>\n",
       "      <td>1.23</td>\n",
       "    </tr>\n",
       "    <tr>\n",
       "      <th>Total</th>\n",
       "      <td>81.0</td>\n",
       "      <td>100.00</td>\n",
       "    </tr>\n",
       "  </tbody>\n",
       "</table>\n",
       "</div>"
      ],
      "text/plain": [
       "              Count  percentage\n",
       "salary_class                   \n",
       "(1000, 2000]   18.0       22.22\n",
       "(2000, 3000]   50.0       61.73\n",
       "(3000, 4000]    8.0        9.88\n",
       "(4000, 5000]    2.0        2.47\n",
       "(5000, 6000]    2.0        2.47\n",
       "(6000, 7000]    1.0        1.23\n",
       "Total          81.0      100.00"
      ]
     },
     "execution_count": 4815,
     "metadata": {},
     "output_type": "execute_result"
    }
   ],
   "source": [
    "\n",
    "df3.index = df3.index.astype(str)\n",
    "df3.loc['Total'] = df3.sum()\n",
    "df3"
   ]
  },
  {
   "cell_type": "markdown",
   "metadata": {},
   "source": []
  },
  {
   "cell_type": "code",
   "execution_count": 4816,
   "metadata": {},
   "outputs": [
    {
     "data": {
      "text/plain": [
       "str"
      ]
     },
     "execution_count": 4816,
     "metadata": {},
     "output_type": "execute_result"
    }
   ],
   "source": [
    "# Checking the Data Type of the Income Class Index\n",
    "type(df3.index.values[0])"
   ]
  },
  {
   "cell_type": "code",
   "execution_count": 4817,
   "metadata": {},
   "outputs": [
    {
     "data": {
      "text/html": [
       "<style type=\"text/css\">\n",
       "</style>\n",
       "<table id=\"T_5088d\">\n",
       "  <thead>\n",
       "    <tr>\n",
       "      <th class=\"index_name level0\" ></th>\n",
       "      <th id=\"T_5088d_level0_col0\" class=\"col_heading level0 col0\" >Count</th>\n",
       "      <th id=\"T_5088d_level0_col1\" class=\"col_heading level0 col1\" >percentage</th>\n",
       "    </tr>\n",
       "    <tr>\n",
       "      <th class=\"index_name level0\" >salary_class</th>\n",
       "      <th class=\"blank col0\" >&nbsp;</th>\n",
       "      <th class=\"blank col1\" >&nbsp;</th>\n",
       "    </tr>\n",
       "  </thead>\n",
       "  <tbody>\n",
       "    <tr>\n",
       "      <th id=\"T_5088d_level0_row0\" class=\"row_heading level0 row0\" >(1000, 2000]</th>\n",
       "      <td id=\"T_5088d_row0_col0\" class=\"data row0 col0\" >18</td>\n",
       "      <td id=\"T_5088d_row0_col1\" class=\"data row0 col1\" >22.2 %</td>\n",
       "    </tr>\n",
       "    <tr>\n",
       "      <th id=\"T_5088d_level0_row1\" class=\"row_heading level0 row1\" >(2000, 3000]</th>\n",
       "      <td id=\"T_5088d_row1_col0\" class=\"data row1 col0\" >50</td>\n",
       "      <td id=\"T_5088d_row1_col1\" class=\"data row1 col1\" >61.7 %</td>\n",
       "    </tr>\n",
       "    <tr>\n",
       "      <th id=\"T_5088d_level0_row2\" class=\"row_heading level0 row2\" >(3000, 4000]</th>\n",
       "      <td id=\"T_5088d_row2_col0\" class=\"data row2 col0\" >8</td>\n",
       "      <td id=\"T_5088d_row2_col1\" class=\"data row2 col1\" >9.9 %</td>\n",
       "    </tr>\n",
       "    <tr>\n",
       "      <th id=\"T_5088d_level0_row3\" class=\"row_heading level0 row3\" >(4000, 5000]</th>\n",
       "      <td id=\"T_5088d_row3_col0\" class=\"data row3 col0\" >2</td>\n",
       "      <td id=\"T_5088d_row3_col1\" class=\"data row3 col1\" >2.5 %</td>\n",
       "    </tr>\n",
       "    <tr>\n",
       "      <th id=\"T_5088d_level0_row4\" class=\"row_heading level0 row4\" >(5000, 6000]</th>\n",
       "      <td id=\"T_5088d_row4_col0\" class=\"data row4 col0\" >2</td>\n",
       "      <td id=\"T_5088d_row4_col1\" class=\"data row4 col1\" >2.5 %</td>\n",
       "    </tr>\n",
       "    <tr>\n",
       "      <th id=\"T_5088d_level0_row5\" class=\"row_heading level0 row5\" >(6000, 7000]</th>\n",
       "      <td id=\"T_5088d_row5_col0\" class=\"data row5 col0\" >1</td>\n",
       "      <td id=\"T_5088d_row5_col1\" class=\"data row5 col1\" >1.2 %</td>\n",
       "    </tr>\n",
       "    <tr>\n",
       "      <th id=\"T_5088d_level0_row6\" class=\"row_heading level0 row6\" >Total</th>\n",
       "      <td id=\"T_5088d_row6_col0\" class=\"data row6 col0\" >81</td>\n",
       "      <td id=\"T_5088d_row6_col1\" class=\"data row6 col1\" >100.0 %</td>\n",
       "    </tr>\n",
       "  </tbody>\n",
       "</table>\n"
      ],
      "text/plain": [
       "<pandas.io.formats.style.Styler at 0x2d527d310>"
      ]
     },
     "execution_count": 4817,
     "metadata": {},
     "output_type": "execute_result"
    }
   ],
   "source": [
    "#Finalizing the layout\n",
    "df3.style.format({'Count': '{:.0f}', 'percentage': '{:.1f} %'})"
   ]
  },
  {
   "cell_type": "code",
   "execution_count": 4818,
   "metadata": {},
   "outputs": [
    {
     "data": {
      "text/plain": [
       "Text(0, 0.5, 'Count, n=81')"
      ]
     },
     "execution_count": 4818,
     "metadata": {},
     "output_type": "execute_result"
    },
    {
     "data": {
      "image/png": "[encoded data removed]",
      "text/plain": [
       "<Figure size 640x480 with 1 Axes>"
      ]
     },
     "metadata": {},
     "output_type": "display_data"
    }
   ],
   "source": [
    "# Creating a Histogram for salary Distribution (Counts)\n",
    "df['salary'].hist(bins = bins)\n",
    "plt.xlabel('salary')\n",
    "plt.ylabel('Count, n=' + str(n))"
   ]
  },
  {
   "cell_type": "markdown",
   "metadata": {},
   "source": [
    "Couclusion: the histogram does't look like normal distribution."
   ]
  },
  {
   "cell_type": "markdown",
   "metadata": {},
   "source": [
    "2. Visualizing the age Distribution."
   ]
  },
  {
   "cell_type": "code",
   "execution_count": 4819,
   "metadata": {},
   "outputs": [
    {
     "data": {
      "text/plain": [
       "20"
      ]
     },
     "execution_count": 4819,
     "metadata": {},
     "output_type": "execute_result"
    }
   ],
   "source": [
    "min(df['age'])"
   ]
  },
  {
   "cell_type": "code",
   "execution_count": 4820,
   "metadata": {},
   "outputs": [
    {
     "data": {
      "text/plain": [
       "61"
      ]
     },
     "execution_count": 4820,
     "metadata": {},
     "output_type": "execute_result"
    }
   ],
   "source": [
    "max(df['age'])"
   ]
  },
  {
   "cell_type": "code",
   "execution_count": 4821,
   "metadata": {},
   "outputs": [
    {
     "data": {
      "text/html": [
       "<div>\n",
       "<style scoped>\n",
       "    .dataframe tbody tr th:only-of-type {\n",
       "        vertical-align: middle;\n",
       "    }\n",
       "\n",
       "    .dataframe tbody tr th {\n",
       "        vertical-align: top;\n",
       "    }\n",
       "\n",
       "    .dataframe thead th {\n",
       "        text-align: right;\n",
       "    }\n",
       "</style>\n",
       "<table border=\"1\" class=\"dataframe\">\n",
       "  <thead>\n",
       "    <tr style=\"text-align: right;\">\n",
       "      <th></th>\n",
       "      <th>gender</th>\n",
       "      <th>age</th>\n",
       "      <th>family</th>\n",
       "      <th>education</th>\n",
       "      <th>years_of_service</th>\n",
       "      <th>salary</th>\n",
       "      <th>sat_management</th>\n",
       "      <th>sat_colleques</th>\n",
       "      <th>sat_workingEnvironment</th>\n",
       "      <th>sat_salary</th>\n",
       "      <th>sat_tasks</th>\n",
       "      <th>salary_class</th>\n",
       "      <th>age_class</th>\n",
       "    </tr>\n",
       "  </thead>\n",
       "  <tbody>\n",
       "    <tr>\n",
       "      <th>0</th>\n",
       "      <td>1</td>\n",
       "      <td>38</td>\n",
       "      <td>1</td>\n",
       "      <td>1.0</td>\n",
       "      <td>22.0</td>\n",
       "      <td>3587</td>\n",
       "      <td>3</td>\n",
       "      <td>3.0</td>\n",
       "      <td>3</td>\n",
       "      <td>3</td>\n",
       "      <td>3</td>\n",
       "      <td>(3000, 4000]</td>\n",
       "      <td>(30, 40]</td>\n",
       "    </tr>\n",
       "    <tr>\n",
       "      <th>1</th>\n",
       "      <td>1</td>\n",
       "      <td>29</td>\n",
       "      <td>2</td>\n",
       "      <td>2.0</td>\n",
       "      <td>10.0</td>\n",
       "      <td>2963</td>\n",
       "      <td>1</td>\n",
       "      <td>5.0</td>\n",
       "      <td>2</td>\n",
       "      <td>1</td>\n",
       "      <td>3</td>\n",
       "      <td>(2000, 3000]</td>\n",
       "      <td>(20, 30]</td>\n",
       "    </tr>\n",
       "    <tr>\n",
       "      <th>2</th>\n",
       "      <td>1</td>\n",
       "      <td>30</td>\n",
       "      <td>1</td>\n",
       "      <td>1.0</td>\n",
       "      <td>7.0</td>\n",
       "      <td>1989</td>\n",
       "      <td>3</td>\n",
       "      <td>4.0</td>\n",
       "      <td>1</td>\n",
       "      <td>1</td>\n",
       "      <td>3</td>\n",
       "      <td>(1000, 2000]</td>\n",
       "      <td>(20, 30]</td>\n",
       "    </tr>\n",
       "    <tr>\n",
       "      <th>3</th>\n",
       "      <td>1</td>\n",
       "      <td>36</td>\n",
       "      <td>2</td>\n",
       "      <td>1.0</td>\n",
       "      <td>14.0</td>\n",
       "      <td>2144</td>\n",
       "      <td>3</td>\n",
       "      <td>3.0</td>\n",
       "      <td>3</td>\n",
       "      <td>3</td>\n",
       "      <td>3</td>\n",
       "      <td>(2000, 3000]</td>\n",
       "      <td>(30, 40]</td>\n",
       "    </tr>\n",
       "    <tr>\n",
       "      <th>4</th>\n",
       "      <td>1</td>\n",
       "      <td>24</td>\n",
       "      <td>1</td>\n",
       "      <td>2.0</td>\n",
       "      <td>4.0</td>\n",
       "      <td>2183</td>\n",
       "      <td>2</td>\n",
       "      <td>3.0</td>\n",
       "      <td>2</td>\n",
       "      <td>1</td>\n",
       "      <td>2</td>\n",
       "      <td>(2000, 3000]</td>\n",
       "      <td>(20, 30]</td>\n",
       "    </tr>\n",
       "  </tbody>\n",
       "</table>\n",
       "</div>"
      ],
      "text/plain": [
       "   gender  age  family  education  years_of_service  salary  sat_management  \\\n",
       "0       1   38       1        1.0              22.0    3587               3   \n",
       "1       1   29       2        2.0              10.0    2963               1   \n",
       "2       1   30       1        1.0               7.0    1989               3   \n",
       "3       1   36       2        1.0              14.0    2144               3   \n",
       "4       1   24       1        2.0               4.0    2183               2   \n",
       "\n",
       "   sat_colleques  sat_workingEnvironment  sat_salary  sat_tasks  salary_class  \\\n",
       "0            3.0                       3           3          3  (3000, 4000]   \n",
       "1            5.0                       2           1          3  (2000, 3000]   \n",
       "2            4.0                       1           1          3  (1000, 2000]   \n",
       "3            3.0                       3           3          3  (2000, 3000]   \n",
       "4            3.0                       2           1          2  (2000, 3000]   \n",
       "\n",
       "  age_class  \n",
       "0  (30, 40]  \n",
       "1  (20, 30]  \n",
       "2  (20, 30]  \n",
       "3  (30, 40]  \n",
       "4  (20, 30]  "
      ]
     },
     "execution_count": 4821,
     "metadata": {},
     "output_type": "execute_result"
    }
   ],
   "source": [
    "bins = [10,20,30,40,50,60,70]\n",
    "df['age_class'] = pd.cut(df['age'], bins = bins)\n",
    "df.head()"
   ]
  },
  {
   "cell_type": "code",
   "execution_count": 4822,
   "metadata": {},
   "outputs": [
    {
     "data": {
      "text/html": [
       "<div>\n",
       "<style scoped>\n",
       "    .dataframe tbody tr th:only-of-type {\n",
       "        vertical-align: middle;\n",
       "    }\n",
       "\n",
       "    .dataframe tbody tr th {\n",
       "        vertical-align: top;\n",
       "    }\n",
       "\n",
       "    .dataframe thead th {\n",
       "        text-align: right;\n",
       "    }\n",
       "</style>\n",
       "<table border=\"1\" class=\"dataframe\">\n",
       "  <thead>\n",
       "    <tr style=\"text-align: right;\">\n",
       "      <th></th>\n",
       "      <th>Count</th>\n",
       "      <th>percentage</th>\n",
       "    </tr>\n",
       "    <tr>\n",
       "      <th>age_class</th>\n",
       "      <th></th>\n",
       "      <th></th>\n",
       "    </tr>\n",
       "  </thead>\n",
       "  <tbody>\n",
       "    <tr>\n",
       "      <th>(10, 20]</th>\n",
       "      <td>1</td>\n",
       "      <td>1.23</td>\n",
       "    </tr>\n",
       "    <tr>\n",
       "      <th>(20, 30]</th>\n",
       "      <td>18</td>\n",
       "      <td>22.22</td>\n",
       "    </tr>\n",
       "    <tr>\n",
       "      <th>(30, 40]</th>\n",
       "      <td>35</td>\n",
       "      <td>43.21</td>\n",
       "    </tr>\n",
       "    <tr>\n",
       "      <th>(40, 50]</th>\n",
       "      <td>16</td>\n",
       "      <td>19.75</td>\n",
       "    </tr>\n",
       "    <tr>\n",
       "      <th>(50, 60]</th>\n",
       "      <td>10</td>\n",
       "      <td>12.35</td>\n",
       "    </tr>\n",
       "    <tr>\n",
       "      <th>(60, 70]</th>\n",
       "      <td>1</td>\n",
       "      <td>1.23</td>\n",
       "    </tr>\n",
       "  </tbody>\n",
       "</table>\n",
       "</div>"
      ],
      "text/plain": [
       "           Count  percentage\n",
       "age_class                   \n",
       "(10, 20]       1        1.23\n",
       "(20, 30]      18       22.22\n",
       "(30, 40]      35       43.21\n",
       "(40, 50]      16       19.75\n",
       "(50, 60]      10       12.35\n",
       "(60, 70]       1        1.23"
      ]
     },
     "execution_count": 4822,
     "metadata": {},
     "output_type": "execute_result"
    }
   ],
   "source": [
    "df10 = pd.crosstab(df['age_class'], 'Count')\n",
    "df10.columns.name = ''\n",
    "n = df10['Count'].sum()\n",
    "# add a percentage in the df3 table\n",
    "df10['percentage'] = round(df10['Count']/df10['Count'].sum() * 100,2)\n",
    "df10"
   ]
  },
  {
   "cell_type": "code",
   "execution_count": 4823,
   "metadata": {},
   "outputs": [
    {
     "data": {
      "text/plain": [
       "pandas._libs.interval.Interval"
      ]
     },
     "execution_count": 4823,
     "metadata": {},
     "output_type": "execute_result"
    }
   ],
   "source": [
    "type(df10.index.values[0])"
   ]
  },
  {
   "cell_type": "code",
   "execution_count": 4824,
   "metadata": {},
   "outputs": [
    {
     "data": {
      "text/html": [
       "<div>\n",
       "<style scoped>\n",
       "    .dataframe tbody tr th:only-of-type {\n",
       "        vertical-align: middle;\n",
       "    }\n",
       "\n",
       "    .dataframe tbody tr th {\n",
       "        vertical-align: top;\n",
       "    }\n",
       "\n",
       "    .dataframe thead th {\n",
       "        text-align: right;\n",
       "    }\n",
       "</style>\n",
       "<table border=\"1\" class=\"dataframe\">\n",
       "  <thead>\n",
       "    <tr style=\"text-align: right;\">\n",
       "      <th></th>\n",
       "      <th>Count</th>\n",
       "      <th>percentage</th>\n",
       "    </tr>\n",
       "    <tr>\n",
       "      <th>age_class</th>\n",
       "      <th></th>\n",
       "      <th></th>\n",
       "    </tr>\n",
       "  </thead>\n",
       "  <tbody>\n",
       "    <tr>\n",
       "      <th>(10, 20]</th>\n",
       "      <td>1.0</td>\n",
       "      <td>1.23</td>\n",
       "    </tr>\n",
       "    <tr>\n",
       "      <th>(20, 30]</th>\n",
       "      <td>18.0</td>\n",
       "      <td>22.22</td>\n",
       "    </tr>\n",
       "    <tr>\n",
       "      <th>(30, 40]</th>\n",
       "      <td>35.0</td>\n",
       "      <td>43.21</td>\n",
       "    </tr>\n",
       "    <tr>\n",
       "      <th>(40, 50]</th>\n",
       "      <td>16.0</td>\n",
       "      <td>19.75</td>\n",
       "    </tr>\n",
       "    <tr>\n",
       "      <th>(50, 60]</th>\n",
       "      <td>10.0</td>\n",
       "      <td>12.35</td>\n",
       "    </tr>\n",
       "    <tr>\n",
       "      <th>(60, 70]</th>\n",
       "      <td>1.0</td>\n",
       "      <td>1.23</td>\n",
       "    </tr>\n",
       "    <tr>\n",
       "      <th>Total</th>\n",
       "      <td>81.0</td>\n",
       "      <td>99.99</td>\n",
       "    </tr>\n",
       "  </tbody>\n",
       "</table>\n",
       "</div>"
      ],
      "text/plain": [
       "           Count  percentage\n",
       "age_class                   \n",
       "(10, 20]     1.0        1.23\n",
       "(20, 30]    18.0       22.22\n",
       "(30, 40]    35.0       43.21\n",
       "(40, 50]    16.0       19.75\n",
       "(50, 60]    10.0       12.35\n",
       "(60, 70]     1.0        1.23\n",
       "Total       81.0       99.99"
      ]
     },
     "execution_count": 4824,
     "metadata": {},
     "output_type": "execute_result"
    }
   ],
   "source": [
    "\n",
    "df10.index = df10.index.astype(str)\n",
    "df10.loc['Total'] = df10.sum()\n",
    "df10"
   ]
  },
  {
   "cell_type": "code",
   "execution_count": 4825,
   "metadata": {},
   "outputs": [
    {
     "data": {
      "text/html": [
       "<style type=\"text/css\">\n",
       "</style>\n",
       "<table id=\"T_7f520\">\n",
       "  <thead>\n",
       "    <tr>\n",
       "      <th class=\"index_name level0\" ></th>\n",
       "      <th id=\"T_7f520_level0_col0\" class=\"col_heading level0 col0\" >Count</th>\n",
       "      <th id=\"T_7f520_level0_col1\" class=\"col_heading level0 col1\" >percentage</th>\n",
       "    </tr>\n",
       "    <tr>\n",
       "      <th class=\"index_name level0\" >age_class</th>\n",
       "      <th class=\"blank col0\" >&nbsp;</th>\n",
       "      <th class=\"blank col1\" >&nbsp;</th>\n",
       "    </tr>\n",
       "  </thead>\n",
       "  <tbody>\n",
       "    <tr>\n",
       "      <th id=\"T_7f520_level0_row0\" class=\"row_heading level0 row0\" >(10, 20]</th>\n",
       "      <td id=\"T_7f520_row0_col0\" class=\"data row0 col0\" >1</td>\n",
       "      <td id=\"T_7f520_row0_col1\" class=\"data row0 col1\" >1.2 %</td>\n",
       "    </tr>\n",
       "    <tr>\n",
       "      <th id=\"T_7f520_level0_row1\" class=\"row_heading level0 row1\" >(20, 30]</th>\n",
       "      <td id=\"T_7f520_row1_col0\" class=\"data row1 col0\" >18</td>\n",
       "      <td id=\"T_7f520_row1_col1\" class=\"data row1 col1\" >22.2 %</td>\n",
       "    </tr>\n",
       "    <tr>\n",
       "      <th id=\"T_7f520_level0_row2\" class=\"row_heading level0 row2\" >(30, 40]</th>\n",
       "      <td id=\"T_7f520_row2_col0\" class=\"data row2 col0\" >35</td>\n",
       "      <td id=\"T_7f520_row2_col1\" class=\"data row2 col1\" >43.2 %</td>\n",
       "    </tr>\n",
       "    <tr>\n",
       "      <th id=\"T_7f520_level0_row3\" class=\"row_heading level0 row3\" >(40, 50]</th>\n",
       "      <td id=\"T_7f520_row3_col0\" class=\"data row3 col0\" >16</td>\n",
       "      <td id=\"T_7f520_row3_col1\" class=\"data row3 col1\" >19.8 %</td>\n",
       "    </tr>\n",
       "    <tr>\n",
       "      <th id=\"T_7f520_level0_row4\" class=\"row_heading level0 row4\" >(50, 60]</th>\n",
       "      <td id=\"T_7f520_row4_col0\" class=\"data row4 col0\" >10</td>\n",
       "      <td id=\"T_7f520_row4_col1\" class=\"data row4 col1\" >12.3 %</td>\n",
       "    </tr>\n",
       "    <tr>\n",
       "      <th id=\"T_7f520_level0_row5\" class=\"row_heading level0 row5\" >(60, 70]</th>\n",
       "      <td id=\"T_7f520_row5_col0\" class=\"data row5 col0\" >1</td>\n",
       "      <td id=\"T_7f520_row5_col1\" class=\"data row5 col1\" >1.2 %</td>\n",
       "    </tr>\n",
       "    <tr>\n",
       "      <th id=\"T_7f520_level0_row6\" class=\"row_heading level0 row6\" >Total</th>\n",
       "      <td id=\"T_7f520_row6_col0\" class=\"data row6 col0\" >81</td>\n",
       "      <td id=\"T_7f520_row6_col1\" class=\"data row6 col1\" >100.0 %</td>\n",
       "    </tr>\n",
       "  </tbody>\n",
       "</table>\n"
      ],
      "text/plain": [
       "<pandas.io.formats.style.Styler at 0x2d5292c00>"
      ]
     },
     "execution_count": 4825,
     "metadata": {},
     "output_type": "execute_result"
    }
   ],
   "source": [
    "#Finalizing the layout\n",
    "df10.style.format({'Count': '{:.0f}', 'percentage': '{:.1f} %'})"
   ]
  },
  {
   "cell_type": "code",
   "execution_count": 4826,
   "metadata": {},
   "outputs": [
    {
     "data": {
      "text/plain": [
       "Text(0, 0.5, 'Count, n=81')"
      ]
     },
     "execution_count": 4826,
     "metadata": {},
     "output_type": "execute_result"
    },
    {
     "data": {
      "image/png": "[encoded data removed]",
      "text/plain": [
       "<Figure size 640x480 with 1 Axes>"
      ]
     },
     "metadata": {},
     "output_type": "display_data"
    }
   ],
   "source": [
    "# Creating a Histogram for age Distribution (Counts)\n",
    "df['age'].hist(bins = bins)\n",
    "plt.xlabel('age')\n",
    "plt.ylabel('Count, n=' + str(n))"
   ]
  },
  {
   "cell_type": "markdown",
   "metadata": {},
   "source": [
    "3. Visualizing the years_of_service Distribution."
   ]
  },
  {
   "cell_type": "code",
   "execution_count": 4827,
   "metadata": {},
   "outputs": [
    {
     "data": {
      "text/plain": [
       "0.0"
      ]
     },
     "execution_count": 4827,
     "metadata": {},
     "output_type": "execute_result"
    }
   ],
   "source": [
    "min(df['years_of_service'])"
   ]
  },
  {
   "cell_type": "code",
   "execution_count": 4828,
   "metadata": {},
   "outputs": [
    {
     "data": {
      "text/plain": [
       "36.0"
      ]
     },
     "execution_count": 4828,
     "metadata": {},
     "output_type": "execute_result"
    }
   ],
   "source": [
    "max(df['years_of_service'])"
   ]
  },
  {
   "cell_type": "code",
   "execution_count": 4829,
   "metadata": {},
   "outputs": [
    {
     "data": {
      "text/html": [
       "<div>\n",
       "<style scoped>\n",
       "    .dataframe tbody tr th:only-of-type {\n",
       "        vertical-align: middle;\n",
       "    }\n",
       "\n",
       "    .dataframe tbody tr th {\n",
       "        vertical-align: top;\n",
       "    }\n",
       "\n",
       "    .dataframe thead th {\n",
       "        text-align: right;\n",
       "    }\n",
       "</style>\n",
       "<table border=\"1\" class=\"dataframe\">\n",
       "  <thead>\n",
       "    <tr style=\"text-align: right;\">\n",
       "      <th></th>\n",
       "      <th>gender</th>\n",
       "      <th>age</th>\n",
       "      <th>family</th>\n",
       "      <th>education</th>\n",
       "      <th>years_of_service</th>\n",
       "      <th>salary</th>\n",
       "      <th>sat_management</th>\n",
       "      <th>sat_colleques</th>\n",
       "      <th>sat_workingEnvironment</th>\n",
       "      <th>sat_salary</th>\n",
       "      <th>sat_tasks</th>\n",
       "      <th>salary_class</th>\n",
       "      <th>age_class</th>\n",
       "      <th>service_years_class</th>\n",
       "    </tr>\n",
       "  </thead>\n",
       "  <tbody>\n",
       "    <tr>\n",
       "      <th>0</th>\n",
       "      <td>1</td>\n",
       "      <td>38</td>\n",
       "      <td>1</td>\n",
       "      <td>1.0</td>\n",
       "      <td>22.0</td>\n",
       "      <td>3587</td>\n",
       "      <td>3</td>\n",
       "      <td>3.0</td>\n",
       "      <td>3</td>\n",
       "      <td>3</td>\n",
       "      <td>3</td>\n",
       "      <td>(3000, 4000]</td>\n",
       "      <td>(30, 40]</td>\n",
       "      <td>(20, 30]</td>\n",
       "    </tr>\n",
       "    <tr>\n",
       "      <th>1</th>\n",
       "      <td>1</td>\n",
       "      <td>29</td>\n",
       "      <td>2</td>\n",
       "      <td>2.0</td>\n",
       "      <td>10.0</td>\n",
       "      <td>2963</td>\n",
       "      <td>1</td>\n",
       "      <td>5.0</td>\n",
       "      <td>2</td>\n",
       "      <td>1</td>\n",
       "      <td>3</td>\n",
       "      <td>(2000, 3000]</td>\n",
       "      <td>(20, 30]</td>\n",
       "      <td>(0, 10]</td>\n",
       "    </tr>\n",
       "    <tr>\n",
       "      <th>2</th>\n",
       "      <td>1</td>\n",
       "      <td>30</td>\n",
       "      <td>1</td>\n",
       "      <td>1.0</td>\n",
       "      <td>7.0</td>\n",
       "      <td>1989</td>\n",
       "      <td>3</td>\n",
       "      <td>4.0</td>\n",
       "      <td>1</td>\n",
       "      <td>1</td>\n",
       "      <td>3</td>\n",
       "      <td>(1000, 2000]</td>\n",
       "      <td>(20, 30]</td>\n",
       "      <td>(0, 10]</td>\n",
       "    </tr>\n",
       "    <tr>\n",
       "      <th>3</th>\n",
       "      <td>1</td>\n",
       "      <td>36</td>\n",
       "      <td>2</td>\n",
       "      <td>1.0</td>\n",
       "      <td>14.0</td>\n",
       "      <td>2144</td>\n",
       "      <td>3</td>\n",
       "      <td>3.0</td>\n",
       "      <td>3</td>\n",
       "      <td>3</td>\n",
       "      <td>3</td>\n",
       "      <td>(2000, 3000]</td>\n",
       "      <td>(30, 40]</td>\n",
       "      <td>(10, 20]</td>\n",
       "    </tr>\n",
       "    <tr>\n",
       "      <th>4</th>\n",
       "      <td>1</td>\n",
       "      <td>24</td>\n",
       "      <td>1</td>\n",
       "      <td>2.0</td>\n",
       "      <td>4.0</td>\n",
       "      <td>2183</td>\n",
       "      <td>2</td>\n",
       "      <td>3.0</td>\n",
       "      <td>2</td>\n",
       "      <td>1</td>\n",
       "      <td>2</td>\n",
       "      <td>(2000, 3000]</td>\n",
       "      <td>(20, 30]</td>\n",
       "      <td>(0, 10]</td>\n",
       "    </tr>\n",
       "  </tbody>\n",
       "</table>\n",
       "</div>"
      ],
      "text/plain": [
       "   gender  age  family  education  years_of_service  salary  sat_management  \\\n",
       "0       1   38       1        1.0              22.0    3587               3   \n",
       "1       1   29       2        2.0              10.0    2963               1   \n",
       "2       1   30       1        1.0               7.0    1989               3   \n",
       "3       1   36       2        1.0              14.0    2144               3   \n",
       "4       1   24       1        2.0               4.0    2183               2   \n",
       "\n",
       "   sat_colleques  sat_workingEnvironment  sat_salary  sat_tasks  salary_class  \\\n",
       "0            3.0                       3           3          3  (3000, 4000]   \n",
       "1            5.0                       2           1          3  (2000, 3000]   \n",
       "2            4.0                       1           1          3  (1000, 2000]   \n",
       "3            3.0                       3           3          3  (2000, 3000]   \n",
       "4            3.0                       2           1          2  (2000, 3000]   \n",
       "\n",
       "  age_class service_years_class  \n",
       "0  (30, 40]            (20, 30]  \n",
       "1  (20, 30]             (0, 10]  \n",
       "2  (20, 30]             (0, 10]  \n",
       "3  (30, 40]            (10, 20]  \n",
       "4  (20, 30]             (0, 10]  "
      ]
     },
     "execution_count": 4829,
     "metadata": {},
     "output_type": "execute_result"
    }
   ],
   "source": [
    "bins = [0,10,20,30,40]\n",
    "df['service_years_class'] = pd.cut(df['years_of_service'], bins = bins)\n",
    "df.head()"
   ]
  },
  {
   "cell_type": "code",
   "execution_count": 4830,
   "metadata": {},
   "outputs": [
    {
     "data": {
      "text/html": [
       "<div>\n",
       "<style scoped>\n",
       "    .dataframe tbody tr th:only-of-type {\n",
       "        vertical-align: middle;\n",
       "    }\n",
       "\n",
       "    .dataframe tbody tr th {\n",
       "        vertical-align: top;\n",
       "    }\n",
       "\n",
       "    .dataframe thead th {\n",
       "        text-align: right;\n",
       "    }\n",
       "</style>\n",
       "<table border=\"1\" class=\"dataframe\">\n",
       "  <thead>\n",
       "    <tr style=\"text-align: right;\">\n",
       "      <th></th>\n",
       "      <th>Count</th>\n",
       "      <th>percentage</th>\n",
       "    </tr>\n",
       "    <tr>\n",
       "      <th>service_years_class</th>\n",
       "      <th></th>\n",
       "      <th></th>\n",
       "    </tr>\n",
       "  </thead>\n",
       "  <tbody>\n",
       "    <tr>\n",
       "      <th>(0, 10]</th>\n",
       "      <td>34</td>\n",
       "      <td>44.16</td>\n",
       "    </tr>\n",
       "    <tr>\n",
       "      <th>(10, 20]</th>\n",
       "      <td>27</td>\n",
       "      <td>35.06</td>\n",
       "    </tr>\n",
       "    <tr>\n",
       "      <th>(20, 30]</th>\n",
       "      <td>14</td>\n",
       "      <td>18.18</td>\n",
       "    </tr>\n",
       "    <tr>\n",
       "      <th>(30, 40]</th>\n",
       "      <td>2</td>\n",
       "      <td>2.60</td>\n",
       "    </tr>\n",
       "  </tbody>\n",
       "</table>\n",
       "</div>"
      ],
      "text/plain": [
       "                     Count  percentage\n",
       "service_years_class                   \n",
       "(0, 10]                 34       44.16\n",
       "(10, 20]                27       35.06\n",
       "(20, 30]                14       18.18\n",
       "(30, 40]                 2        2.60"
      ]
     },
     "execution_count": 4830,
     "metadata": {},
     "output_type": "execute_result"
    }
   ],
   "source": [
    "df11 = pd.crosstab(df['service_years_class'], 'Count')\n",
    "df11.columns.name = ''\n",
    "n = df11['Count'].sum()\n",
    "# add a percentage in the df3 table\n",
    "df11['percentage'] = round(df11['Count']/df11['Count'].sum() * 100,2)\n",
    "df11"
   ]
  },
  {
   "cell_type": "code",
   "execution_count": 4831,
   "metadata": {},
   "outputs": [
    {
     "data": {
      "text/plain": [
       "pandas._libs.interval.Interval"
      ]
     },
     "execution_count": 4831,
     "metadata": {},
     "output_type": "execute_result"
    }
   ],
   "source": [
    "type(df11.index.values[0])"
   ]
  },
  {
   "cell_type": "code",
   "execution_count": 4832,
   "metadata": {},
   "outputs": [
    {
     "data": {
      "text/html": [
       "<div>\n",
       "<style scoped>\n",
       "    .dataframe tbody tr th:only-of-type {\n",
       "        vertical-align: middle;\n",
       "    }\n",
       "\n",
       "    .dataframe tbody tr th {\n",
       "        vertical-align: top;\n",
       "    }\n",
       "\n",
       "    .dataframe thead th {\n",
       "        text-align: right;\n",
       "    }\n",
       "</style>\n",
       "<table border=\"1\" class=\"dataframe\">\n",
       "  <thead>\n",
       "    <tr style=\"text-align: right;\">\n",
       "      <th></th>\n",
       "      <th>Count</th>\n",
       "      <th>percentage</th>\n",
       "    </tr>\n",
       "    <tr>\n",
       "      <th>service_years_class</th>\n",
       "      <th></th>\n",
       "      <th></th>\n",
       "    </tr>\n",
       "  </thead>\n",
       "  <tbody>\n",
       "    <tr>\n",
       "      <th>(0, 10]</th>\n",
       "      <td>34.0</td>\n",
       "      <td>44.16</td>\n",
       "    </tr>\n",
       "    <tr>\n",
       "      <th>(10, 20]</th>\n",
       "      <td>27.0</td>\n",
       "      <td>35.06</td>\n",
       "    </tr>\n",
       "    <tr>\n",
       "      <th>(20, 30]</th>\n",
       "      <td>14.0</td>\n",
       "      <td>18.18</td>\n",
       "    </tr>\n",
       "    <tr>\n",
       "      <th>(30, 40]</th>\n",
       "      <td>2.0</td>\n",
       "      <td>2.60</td>\n",
       "    </tr>\n",
       "    <tr>\n",
       "      <th>Total</th>\n",
       "      <td>77.0</td>\n",
       "      <td>100.00</td>\n",
       "    </tr>\n",
       "  </tbody>\n",
       "</table>\n",
       "</div>"
      ],
      "text/plain": [
       "                     Count  percentage\n",
       "service_years_class                   \n",
       "(0, 10]               34.0       44.16\n",
       "(10, 20]              27.0       35.06\n",
       "(20, 30]              14.0       18.18\n",
       "(30, 40]               2.0        2.60\n",
       "Total                 77.0      100.00"
      ]
     },
     "execution_count": 4832,
     "metadata": {},
     "output_type": "execute_result"
    }
   ],
   "source": [
    "df11.index = df11.index.astype(str)\n",
    "df11.loc['Total'] = df11.sum()\n",
    "df11"
   ]
  },
  {
   "cell_type": "code",
   "execution_count": 4833,
   "metadata": {},
   "outputs": [
    {
     "data": {
      "text/html": [
       "<style type=\"text/css\">\n",
       "</style>\n",
       "<table id=\"T_da8b1\">\n",
       "  <thead>\n",
       "    <tr>\n",
       "      <th class=\"index_name level0\" ></th>\n",
       "      <th id=\"T_da8b1_level0_col0\" class=\"col_heading level0 col0\" >Count</th>\n",
       "      <th id=\"T_da8b1_level0_col1\" class=\"col_heading level0 col1\" >percentage</th>\n",
       "    </tr>\n",
       "    <tr>\n",
       "      <th class=\"index_name level0\" >service_years_class</th>\n",
       "      <th class=\"blank col0\" >&nbsp;</th>\n",
       "      <th class=\"blank col1\" >&nbsp;</th>\n",
       "    </tr>\n",
       "  </thead>\n",
       "  <tbody>\n",
       "    <tr>\n",
       "      <th id=\"T_da8b1_level0_row0\" class=\"row_heading level0 row0\" >(0, 10]</th>\n",
       "      <td id=\"T_da8b1_row0_col0\" class=\"data row0 col0\" >34</td>\n",
       "      <td id=\"T_da8b1_row0_col1\" class=\"data row0 col1\" >44.2 %</td>\n",
       "    </tr>\n",
       "    <tr>\n",
       "      <th id=\"T_da8b1_level0_row1\" class=\"row_heading level0 row1\" >(10, 20]</th>\n",
       "      <td id=\"T_da8b1_row1_col0\" class=\"data row1 col0\" >27</td>\n",
       "      <td id=\"T_da8b1_row1_col1\" class=\"data row1 col1\" >35.1 %</td>\n",
       "    </tr>\n",
       "    <tr>\n",
       "      <th id=\"T_da8b1_level0_row2\" class=\"row_heading level0 row2\" >(20, 30]</th>\n",
       "      <td id=\"T_da8b1_row2_col0\" class=\"data row2 col0\" >14</td>\n",
       "      <td id=\"T_da8b1_row2_col1\" class=\"data row2 col1\" >18.2 %</td>\n",
       "    </tr>\n",
       "    <tr>\n",
       "      <th id=\"T_da8b1_level0_row3\" class=\"row_heading level0 row3\" >(30, 40]</th>\n",
       "      <td id=\"T_da8b1_row3_col0\" class=\"data row3 col0\" >2</td>\n",
       "      <td id=\"T_da8b1_row3_col1\" class=\"data row3 col1\" >2.6 %</td>\n",
       "    </tr>\n",
       "    <tr>\n",
       "      <th id=\"T_da8b1_level0_row4\" class=\"row_heading level0 row4\" >Total</th>\n",
       "      <td id=\"T_da8b1_row4_col0\" class=\"data row4 col0\" >77</td>\n",
       "      <td id=\"T_da8b1_row4_col1\" class=\"data row4 col1\" >100.0 %</td>\n",
       "    </tr>\n",
       "  </tbody>\n",
       "</table>\n"
      ],
      "text/plain": [
       "<pandas.io.formats.style.Styler at 0x2d543c590>"
      ]
     },
     "execution_count": 4833,
     "metadata": {},
     "output_type": "execute_result"
    }
   ],
   "source": [
    "#Finalizing the layout\n",
    "df11.style.format({'Count': '{:.0f}', 'percentage': '{:.1f} %'})"
   ]
  },
  {
   "cell_type": "code",
   "execution_count": 4834,
   "metadata": {},
   "outputs": [
    {
     "data": {
      "text/plain": [
       "Text(0, 0.5, 'Count, n=77')"
      ]
     },
     "execution_count": 4834,
     "metadata": {},
     "output_type": "execute_result"
    },
    {
     "data": {
      "image/png": "[encoded data removed]",
      "text/plain": [
       "<Figure size 640x480 with 1 Axes>"
      ]
     },
     "metadata": {},
     "output_type": "display_data"
    }
   ],
   "source": [
    "# Creating a Histogram for years_of_service Distribution (Counts)\n",
    "df['years_of_service'].hist(bins = bins)\n",
    "plt.xlabel('years_of_service')\n",
    "plt.ylabel('Count, n=' + str(n))"
   ]
  },
  {
   "cell_type": "markdown",
   "metadata": {},
   "source": [
    "## 3.Analyzing Two Variables (Two Categorical Variables) Qiaoqiao Zou"
   ]
  },
  {
   "cell_type": "markdown",
   "metadata": {},
   "source": [
    "#### 1. relationship between gender and educations"
   ]
  },
  {
   "cell_type": "code",
   "execution_count": 4835,
   "metadata": {},
   "outputs": [
    {
     "data": {
      "text/html": [
       "<div>\n",
       "<style scoped>\n",
       "    .dataframe tbody tr th:only-of-type {\n",
       "        vertical-align: middle;\n",
       "    }\n",
       "\n",
       "    .dataframe tbody tr th {\n",
       "        vertical-align: top;\n",
       "    }\n",
       "\n",
       "    .dataframe thead th {\n",
       "        text-align: right;\n",
       "    }\n",
       "</style>\n",
       "<table border=\"1\" class=\"dataframe\">\n",
       "  <thead>\n",
       "    <tr style=\"text-align: right;\">\n",
       "      <th></th>\n",
       "      <th>woman</th>\n",
       "      <th>man</th>\n",
       "    </tr>\n",
       "  </thead>\n",
       "  <tbody>\n",
       "    <tr>\n",
       "      <th>primary school</th>\n",
       "      <td>35.48</td>\n",
       "      <td>26.32</td>\n",
       "    </tr>\n",
       "    <tr>\n",
       "      <th>secondary school graduate</th>\n",
       "      <td>37.10</td>\n",
       "      <td>36.84</td>\n",
       "    </tr>\n",
       "    <tr>\n",
       "      <th>bachelor level</th>\n",
       "      <td>24.19</td>\n",
       "      <td>36.84</td>\n",
       "    </tr>\n",
       "    <tr>\n",
       "      <th>master level</th>\n",
       "      <td>3.23</td>\n",
       "      <td>0.00</td>\n",
       "    </tr>\n",
       "  </tbody>\n",
       "</table>\n",
       "</div>"
      ],
      "text/plain": [
       "                           woman    man\n",
       "primary school             35.48  26.32\n",
       "secondary school graduate  37.10  36.84\n",
       "bachelor level             24.19  36.84\n",
       "master level                3.23   0.00"
      ]
     },
     "execution_count": 4835,
     "metadata": {},
     "output_type": "execute_result"
    }
   ],
   "source": [
    "# relationship between gender and educations\n",
    "df4 = round(pd.crosstab(df['education'], df['gender'], normalize = 'columns') * 100,2)\n",
    "df4.index=['primary school','secondary school graduate','bachelor level','master level']\n",
    "df4.columns = ['woman', 'man']\n",
    "df4"
   ]
  },
  {
   "cell_type": "code",
   "execution_count": 4836,
   "metadata": {},
   "outputs": [
    {
     "data": {
      "image/png": "[encoded data removed]",
      "text/plain": [
       "<Figure size 640x480 with 1 Axes>"
      ]
     },
     "metadata": {},
     "output_type": "display_data"
    }
   ],
   "source": [
    "# A horizontal bar chart is created to visualize the percentage distribution of education levels across genders.\n",
    "df4.plot.barh(legend = 'reverse')\n",
    "\n",
    "plt.xlabel('Percentages for gender')\n",
    "\n",
    "plt.grid(axis = 'y')"
   ]
  },
  {
   "cell_type": "code",
   "execution_count": 4837,
   "metadata": {},
   "outputs": [
    {
     "data": {
      "text/plain": [
       "Chi2ContingencyResult(statistic=np.float64(7.210640196788447), pvalue=np.float64(0.06547854572010044), dof=3, expected_freq=array([[30.9  , 30.9  ],\n",
       "       [36.97 , 36.97 ],\n",
       "       [30.515, 30.515],\n",
       "       [ 1.615,  1.615]]))"
      ]
     },
     "execution_count": 4837,
     "metadata": {},
     "output_type": "execute_result"
    }
   ],
   "source": [
    "from scipy.stats import chi2_contingency\n",
    "\n",
    "\n",
    "chi2_contingency(df4)"
   ]
  },
  {
   "cell_type": "markdown",
   "metadata": {},
   "source": [
    "#### Conclusion: no significant dependency between \"education\" and \"gender\".\n",
    "\n",
    "- Since the p-value (0.065) is greater than 0.05, the result suggests that there is no significant dependency between education level and gender in this dataset.\n",
    "\n",
    "- The observed distribution of education levels across genders is likely due to random variation and not due to a meaningful relationship."
   ]
  },
  {
   "cell_type": "markdown",
   "metadata": {},
   "source": [
    "#### 2. relationship between gender and family"
   ]
  },
  {
   "cell_type": "code",
   "execution_count": 4838,
   "metadata": {},
   "outputs": [
    {
     "data": {
      "text/html": [
       "<div>\n",
       "<style scoped>\n",
       "    .dataframe tbody tr th:only-of-type {\n",
       "        vertical-align: middle;\n",
       "    }\n",
       "\n",
       "    .dataframe tbody tr th {\n",
       "        vertical-align: top;\n",
       "    }\n",
       "\n",
       "    .dataframe thead th {\n",
       "        text-align: right;\n",
       "    }\n",
       "</style>\n",
       "<table border=\"1\" class=\"dataframe\">\n",
       "  <thead>\n",
       "    <tr style=\"text-align: right;\">\n",
       "      <th></th>\n",
       "      <th>single</th>\n",
       "      <th>not single</th>\n",
       "    </tr>\n",
       "  </thead>\n",
       "  <tbody>\n",
       "    <tr>\n",
       "      <th>primary school</th>\n",
       "      <td>33.33</td>\n",
       "      <td>33.33</td>\n",
       "    </tr>\n",
       "    <tr>\n",
       "      <th>secondary school graduate</th>\n",
       "      <td>43.33</td>\n",
       "      <td>33.33</td>\n",
       "    </tr>\n",
       "    <tr>\n",
       "      <th>bachelor level</th>\n",
       "      <td>20.00</td>\n",
       "      <td>31.37</td>\n",
       "    </tr>\n",
       "    <tr>\n",
       "      <th>master level</th>\n",
       "      <td>3.33</td>\n",
       "      <td>1.96</td>\n",
       "    </tr>\n",
       "  </tbody>\n",
       "</table>\n",
       "</div>"
      ],
      "text/plain": [
       "                           single  not single\n",
       "primary school              33.33       33.33\n",
       "secondary school graduate   43.33       33.33\n",
       "bachelor level              20.00       31.37\n",
       "master level                 3.33        1.96"
      ]
     },
     "execution_count": 4838,
     "metadata": {},
     "output_type": "execute_result"
    }
   ],
   "source": [
    "# relationship between family and education\n",
    "df8 = round(pd.crosstab(df['education'], df['family'], normalize = 'columns') * 100,2)\n",
    "df8.index=['primary school','secondary school graduate','bachelor level','master level']\n",
    "df8.columns = ['single', 'not single']\n",
    "df8"
   ]
  },
  {
   "cell_type": "code",
   "execution_count": 4839,
   "metadata": {},
   "outputs": [
    {
     "data": {
      "image/png": "[encoded data removed]",
      "text/plain": [
       "<Figure size 640x480 with 1 Axes>"
      ]
     },
     "metadata": {},
     "output_type": "display_data"
    }
   ],
   "source": [
    "# A horizontal bar chart is created to visualize the percentage distribution of education levels across families.\n",
    "df8.plot.barh(legend = 'reverse')\n",
    "\n",
    "plt.xlabel('Percentages for gender')\n",
    "\n",
    "plt.grid(axis = 'y')"
   ]
  },
  {
   "cell_type": "code",
   "execution_count": 4840,
   "metadata": {},
   "outputs": [
    {
     "data": {
      "text/plain": [
       "Chi2ContingencyResult(statistic=np.float64(4.175846378898363), pvalue=np.float64(0.2430912734858911), dof=3, expected_freq=array([[33.33 , 33.33 ],\n",
       "       [38.33 , 38.33 ],\n",
       "       [25.685, 25.685],\n",
       "       [ 2.645,  2.645]]))"
      ]
     },
     "execution_count": 4840,
     "metadata": {},
     "output_type": "execute_result"
    }
   ],
   "source": [
    "chi2_contingency(df8)"
   ]
  },
  {
   "cell_type": "markdown",
   "metadata": {},
   "source": [
    "#### Conclusion: no significant dependency between \"education\" and \"gender\".\n",
    "\n",
    "- Since the p-value (0.243) is greater than 0.05, the result suggests that there is no significant dependency between education level and gender in this dataset."
   ]
  },
  {
   "cell_type": "markdown",
   "metadata": {},
   "source": [
    "#### 3. relationship between gender and family"
   ]
  },
  {
   "cell_type": "code",
   "execution_count": 4841,
   "metadata": {},
   "outputs": [
    {
     "data": {
      "text/html": [
       "<div>\n",
       "<style scoped>\n",
       "    .dataframe tbody tr th:only-of-type {\n",
       "        vertical-align: middle;\n",
       "    }\n",
       "\n",
       "    .dataframe tbody tr th {\n",
       "        vertical-align: top;\n",
       "    }\n",
       "\n",
       "    .dataframe thead th {\n",
       "        text-align: right;\n",
       "    }\n",
       "</style>\n",
       "<table border=\"1\" class=\"dataframe\">\n",
       "  <thead>\n",
       "    <tr style=\"text-align: right;\">\n",
       "      <th></th>\n",
       "      <th>single</th>\n",
       "      <th>not single</th>\n",
       "    </tr>\n",
       "  </thead>\n",
       "  <tbody>\n",
       "    <tr>\n",
       "      <th>man</th>\n",
       "      <td>90.0</td>\n",
       "      <td>68.63</td>\n",
       "    </tr>\n",
       "    <tr>\n",
       "      <th>women</th>\n",
       "      <td>10.0</td>\n",
       "      <td>31.37</td>\n",
       "    </tr>\n",
       "  </tbody>\n",
       "</table>\n",
       "</div>"
      ],
      "text/plain": [
       "       single  not single\n",
       "man      90.0       68.63\n",
       "women    10.0       31.37"
      ]
     },
     "execution_count": 4841,
     "metadata": {},
     "output_type": "execute_result"
    }
   ],
   "source": [
    "# relationship between family and gender\n",
    "df9 = round(pd.crosstab(df['gender'], df['family'], normalize = 'columns') * 100,2)\n",
    "df9.index=['man','women']\n",
    "df9.columns = ['single', 'not single']\n",
    "df9"
   ]
  },
  {
   "cell_type": "code",
   "execution_count": 4842,
   "metadata": {},
   "outputs": [
    {
     "data": {
      "image/png": "[encoded data removed]",
      "text/plain": [
       "<Figure size 640x480 with 1 Axes>"
      ]
     },
     "metadata": {},
     "output_type": "display_data"
    }
   ],
   "source": [
    "# A horizontal bar chart is created to visualize the percentage distribution of gender levels across families.\n",
    "df9.plot.barh(legend = 'reverse')\n",
    "\n",
    "plt.xlabel('Percentages for gender')\n",
    "\n",
    "plt.grid(axis = 'y')"
   ]
  },
  {
   "cell_type": "code",
   "execution_count": 4843,
   "metadata": {},
   "outputs": [
    {
     "data": {
      "text/plain": [
       "Chi2ContingencyResult(statistic=np.float64(12.645651487306768), pvalue=np.float64(0.00037644026343853435), dof=1, expected_freq=array([[79.315, 79.315],\n",
       "       [20.685, 20.685]]))"
      ]
     },
     "execution_count": 4843,
     "metadata": {},
     "output_type": "execute_result"
    }
   ],
   "source": [
    "chi2_contingency(df9)"
   ]
  },
  {
   "cell_type": "markdown",
   "metadata": {},
   "source": [
    "#### Conclusion: no significant dependency between \"family\" and \"gender\".\n",
    "\n",
    "- Since the p-value (0.00037) is lower than 0.05, the result suggests that there is significant dependency between family level and gender in this dataset."
   ]
  },
  {
   "cell_type": "markdown",
   "metadata": {},
   "source": [
    "## 4. Analyzing Two Variables (with Numeric variables) Qiaoqiao Zou"
   ]
  },
  {
   "cell_type": "markdown",
   "metadata": {},
   "source": [
    "### 1. The difference in gerder and satisfaction of numeric varibles"
   ]
  },
  {
   "cell_type": "markdown",
   "metadata": {},
   "source": [
    "#### 1.1  Analysis of the difference in  management satisfaction between men and women"
   ]
  },
  {
   "cell_type": "code",
   "execution_count": 4844,
   "metadata": {},
   "outputs": [
    {
     "data": {
      "text/html": [
       "<div>\n",
       "<style scoped>\n",
       "    .dataframe tbody tr th:only-of-type {\n",
       "        vertical-align: middle;\n",
       "    }\n",
       "\n",
       "    .dataframe tbody tr th {\n",
       "        vertical-align: top;\n",
       "    }\n",
       "\n",
       "    .dataframe thead th {\n",
       "        text-align: right;\n",
       "    }\n",
       "</style>\n",
       "<table border=\"1\" class=\"dataframe\">\n",
       "  <thead>\n",
       "    <tr style=\"text-align: right;\">\n",
       "      <th></th>\n",
       "      <th>age</th>\n",
       "      <th>salary</th>\n",
       "      <th>years_of_service</th>\n",
       "      <th>sat_management</th>\n",
       "      <th>sat_colleques</th>\n",
       "      <th>sat_workingEnvironment</th>\n",
       "      <th>sat_salary</th>\n",
       "      <th>sat_tasks</th>\n",
       "    </tr>\n",
       "  </thead>\n",
       "  <tbody>\n",
       "    <tr>\n",
       "      <th>men</th>\n",
       "      <td>37.387097</td>\n",
       "      <td>2675.274194</td>\n",
       "      <td>11.491935</td>\n",
       "      <td>2.854839</td>\n",
       "      <td>4.129032</td>\n",
       "      <td>3.000000</td>\n",
       "      <td>1.887097</td>\n",
       "      <td>3.112903</td>\n",
       "    </tr>\n",
       "    <tr>\n",
       "      <th>women</th>\n",
       "      <td>40.684211</td>\n",
       "      <td>2232.736842</td>\n",
       "      <td>14.421053</td>\n",
       "      <td>3.684211</td>\n",
       "      <td>3.842105</td>\n",
       "      <td>3.947368</td>\n",
       "      <td>2.789474</td>\n",
       "      <td>3.526316</td>\n",
       "    </tr>\n",
       "  </tbody>\n",
       "</table>\n",
       "</div>"
      ],
      "text/plain": [
       "             age       salary  years_of_service  sat_management  \\\n",
       "men    37.387097  2675.274194         11.491935        2.854839   \n",
       "women  40.684211  2232.736842         14.421053        3.684211   \n",
       "\n",
       "       sat_colleques  sat_workingEnvironment  sat_salary  sat_tasks  \n",
       "men         4.129032                3.000000    1.887097   3.112903  \n",
       "women       3.842105                3.947368    2.789474   3.526316  "
      ]
     },
     "execution_count": 4844,
     "metadata": {},
     "output_type": "execute_result"
    }
   ],
   "source": [
    "#Extracting various satisfaction variables by gender grouping.\n",
    "variable_list=['age', 'salary','years_of_service', 'sat_management','sat_colleques', 'sat_workingEnvironment', 'sat_salary', 'sat_tasks']\n",
    "df5 = df.groupby('gender')[variable_list].mean()\n",
    "df5.index=['men','women']\n",
    "df5"
   ]
  },
  {
   "cell_type": "code",
   "execution_count": 4845,
   "metadata": {},
   "outputs": [
    {
     "data": {
      "text/plain": [
       "<Axes: >"
      ]
     },
     "execution_count": 4845,
     "metadata": {},
     "output_type": "execute_result"
    },
    {
     "data": {
      "image/png": "[encoded data removed]",
      "text/plain": [
       "<Figure size 640x480 with 1 Axes>"
      ]
     },
     "metadata": {},
     "output_type": "display_data"
    }
   ],
   "source": [
    "# check sat_management's distribution .\n",
    "df['sat_management'].hist(bins=5)"
   ]
  },
  {
   "cell_type": "markdown",
   "metadata": {},
   "source": [
    "Conclusion: the histogram looks much like normal distribution."
   ]
  },
  {
   "cell_type": "code",
   "execution_count": 4846,
   "metadata": {},
   "outputs": [
    {
     "data": {
      "text/plain": [
       "TtestResult(statistic=np.float64(-3.5925974512124648), pvalue=np.float64(0.000927215546129314), df=np.float64(37.94426745293661))"
      ]
     },
     "execution_count": 4846,
     "metadata": {},
     "output_type": "execute_result"
    }
   ],
   "source": [
    "# 1.Man and women are independent vairibles.\n",
    "# 2.The sample size >30.\n",
    "# 3.The value of \"sat_management\" are normally distributed.\n",
    "\n",
    "# Forming the data for the groups to be compared\n",
    "gender1 = df['sat_management'][df['gender'] == 1] # men\n",
    "gender2 = df['sat_management'][df['gender'] == 2] # women\n",
    "\n",
    "# Kahden riippumattoman (ind) otoksen t-testi\n",
    "from scipy.stats import ttest_ind\n",
    "ttest_ind(gender1, gender2, equal_var = False)  \n"
   ]
  },
  {
   "cell_type": "markdown",
   "metadata": {},
   "source": [
    "#### Conclusion of difference for \"sat_management\" between men and women\n",
    "- Since the p-value (0.000927) is lower than 0.05, so there is difference between men and women with satisfaction level to management.\n"
   ]
  },
  {
   "cell_type": "markdown",
   "metadata": {},
   "source": [
    "#### 1.2  Analysis colleques satisfaction"
   ]
  },
  {
   "cell_type": "markdown",
   "metadata": {},
   "source": []
  },
  {
   "cell_type": "code",
   "execution_count": 4847,
   "metadata": {},
   "outputs": [
    {
     "data": {
      "text/plain": [
       "<Axes: >"
      ]
     },
     "execution_count": 4847,
     "metadata": {},
     "output_type": "execute_result"
    },
    {
     "data": {
      "image/png": "[encoded data removed]",
      "text/plain": [
       "<Figure size 640x480 with 1 Axes>"
      ]
     },
     "metadata": {},
     "output_type": "display_data"
    }
   ],
   "source": [
    "# check sat_colleques' distribution .\n",
    "df['sat_colleques'].hist(bins=5)"
   ]
  },
  {
   "cell_type": "markdown",
   "metadata": {},
   "source": [
    "Conclusion: the histogram does't look like normal distribution."
   ]
  },
  {
   "cell_type": "markdown",
   "metadata": {},
   "source": [
    "#### 1.3  Analysis workingEnvironment satisfaction"
   ]
  },
  {
   "cell_type": "code",
   "execution_count": 4848,
   "metadata": {},
   "outputs": [
    {
     "data": {
      "text/plain": [
       "<Axes: >"
      ]
     },
     "execution_count": 4848,
     "metadata": {},
     "output_type": "execute_result"
    },
    {
     "data": {
      "image/png": "[encoded data removed]",
      "text/plain": [
       "<Figure size 640x480 with 1 Axes>"
      ]
     },
     "metadata": {},
     "output_type": "display_data"
    }
   ],
   "source": [
    "# check sat_workEnvironment's distribution .\n",
    "df['sat_workingEnvironment'].hist(bins=5)"
   ]
  },
  {
   "cell_type": "markdown",
   "metadata": {},
   "source": [
    "Conclusion: the histogram looks like normal distribution."
   ]
  },
  {
   "cell_type": "code",
   "execution_count": 4849,
   "metadata": {},
   "outputs": [
    {
     "data": {
      "text/plain": [
       "TtestResult(statistic=np.float64(-3.5761793026862443), pvalue=np.float64(0.0010606198890500582), df=np.float64(34.34543286610723))"
      ]
     },
     "execution_count": 4849,
     "metadata": {},
     "output_type": "execute_result"
    }
   ],
   "source": [
    "# 1.Man and women are independent vairibles.\n",
    "# 2.The sample size >30.\n",
    "# 3.The value of \"sat_workingEnvironment\" are normally distributed.\n",
    "\n",
    "# Forming the data for the groups to be compared\n",
    "gender3 = df['sat_workingEnvironment'][df['gender'] == 1] # men\n",
    "gender4 = df['sat_workingEnvironment'][df['gender'] == 2] # women\n",
    "\n",
    "# Kahden riippumattoman (ind) otoksen t-testi\n",
    "from scipy.stats import ttest_ind\n",
    "ttest_ind(gender3, gender4, equal_var = False)  "
   ]
  },
  {
   "cell_type": "markdown",
   "metadata": {},
   "source": [
    "#### Conclusion of difference for \"sat_workingEnvironment\" between men and women\n",
    "- Since the p-value (0.00106) is lower than 0.05, so there is difference between men and women with satisfaction level to workingEnvironment."
   ]
  },
  {
   "cell_type": "markdown",
   "metadata": {},
   "source": [
    "#### 1.4  Analysis salary satisfaction"
   ]
  },
  {
   "cell_type": "code",
   "execution_count": 4850,
   "metadata": {},
   "outputs": [
    {
     "data": {
      "text/plain": [
       "<Axes: >"
      ]
     },
     "execution_count": 4850,
     "metadata": {},
     "output_type": "execute_result"
    },
    {
     "data": {
      "image/png": "[encoded data removed]",
      "text/plain": [
       "<Figure size 640x480 with 1 Axes>"
      ]
     },
     "metadata": {},
     "output_type": "display_data"
    }
   ],
   "source": [
    "# check sat_workEnvironment's distribution .\n",
    "df['sat_salary'].hist(bins=5)"
   ]
  },
  {
   "cell_type": "markdown",
   "metadata": {},
   "source": [
    "Conclusion: the histogram does't look like normal distribution."
   ]
  },
  {
   "cell_type": "markdown",
   "metadata": {},
   "source": [
    "#### 1.5  Analysis task satisfaction"
   ]
  },
  {
   "cell_type": "code",
   "execution_count": 4851,
   "metadata": {},
   "outputs": [
    {
     "data": {
      "text/plain": [
       "<Axes: >"
      ]
     },
     "execution_count": 4851,
     "metadata": {},
     "output_type": "execute_result"
    },
    {
     "data": {
      "image/png": "[encoded data removed]",
      "text/plain": [
       "<Figure size 640x480 with 1 Axes>"
      ]
     },
     "metadata": {},
     "output_type": "display_data"
    }
   ],
   "source": [
    "# check sat_workEnvironment's distribution .\n",
    "df['sat_tasks'].hist(bins=5)"
   ]
  },
  {
   "cell_type": "markdown",
   "metadata": {},
   "source": [
    "Conclusion: the histogram look like normal distribution."
   ]
  },
  {
   "cell_type": "code",
   "execution_count": 4852,
   "metadata": {},
   "outputs": [
    {
     "data": {
      "text/plain": [
       "TtestResult(statistic=np.float64(-1.5375764179499778), pvalue=np.float64(0.13448835860440872), df=np.float64(30.424794223518916))"
      ]
     },
     "execution_count": 4852,
     "metadata": {},
     "output_type": "execute_result"
    }
   ],
   "source": [
    "# 1.Man and women are independent vairibles.\n",
    "# 2.The sample size >30.\n",
    "# 3.The value of \"sat_management\" are normally distributed.\n",
    "\n",
    "# Forming the data for the groups to be compared\n",
    "gender5 = df['sat_tasks'][df['gender'] == 1] # men\n",
    "gender6 = df['sat_tasks'][df['gender'] == 2] # women\n",
    "\n",
    "# Kahden riippumattoman (ind) otoksen t-testi\n",
    "from scipy.stats import ttest_ind\n",
    "ttest_ind(gender5, gender6, equal_var = False)  "
   ]
  },
  {
   "cell_type": "markdown",
   "metadata": {},
   "source": [
    "#### Conclusion of difference for \"sat_tasks\" between men and women\n",
    "- Since the p-value (0.1344) is greater than 0.05, so there is indifference between men and women with satisfaction level to tasks."
   ]
  },
  {
   "cell_type": "markdown",
   "metadata": {},
   "source": []
  },
  {
   "cell_type": "markdown",
   "metadata": {},
   "source": [
    "#### Couclusion in all: gerder is difference with  satisfaction leve to working environment and management, indifference with satisfaction leve to tasks."
   ]
  },
  {
   "cell_type": "markdown",
   "metadata": {},
   "source": [
    "## 5. Analyzing Two Variables(Xiaomeng Du)"
   ]
  },
  {
   "cell_type": "code",
   "execution_count": 4853,
   "metadata": {},
   "outputs": [
    {
     "data": {
      "text/html": [
       "<div>\n",
       "<style scoped>\n",
       "    .dataframe tbody tr th:only-of-type {\n",
       "        vertical-align: middle;\n",
       "    }\n",
       "\n",
       "    .dataframe tbody tr th {\n",
       "        vertical-align: top;\n",
       "    }\n",
       "\n",
       "    .dataframe thead th {\n",
       "        text-align: right;\n",
       "    }\n",
       "</style>\n",
       "<table border=\"1\" class=\"dataframe\">\n",
       "  <thead>\n",
       "    <tr style=\"text-align: right;\">\n",
       "      <th></th>\n",
       "      <th>Very Unsatisfied</th>\n",
       "      <th>Unsatisfied</th>\n",
       "      <th>Neutral</th>\n",
       "      <th>Satisfied</th>\n",
       "      <th>Very Satisfied</th>\n",
       "    </tr>\n",
       "  </thead>\n",
       "  <tbody>\n",
       "    <tr>\n",
       "      <th>primary school</th>\n",
       "      <td>71.43</td>\n",
       "      <td>18.75</td>\n",
       "      <td>33.33</td>\n",
       "      <td>27.27</td>\n",
       "      <td>50.00</td>\n",
       "    </tr>\n",
       "    <tr>\n",
       "      <th>secondary school graduate</th>\n",
       "      <td>28.57</td>\n",
       "      <td>50.00</td>\n",
       "      <td>36.67</td>\n",
       "      <td>36.36</td>\n",
       "      <td>16.67</td>\n",
       "    </tr>\n",
       "    <tr>\n",
       "      <th>bachelor level</th>\n",
       "      <td>0.00</td>\n",
       "      <td>31.25</td>\n",
       "      <td>26.67</td>\n",
       "      <td>36.36</td>\n",
       "      <td>16.67</td>\n",
       "    </tr>\n",
       "    <tr>\n",
       "      <th>master level</th>\n",
       "      <td>0.00</td>\n",
       "      <td>0.00</td>\n",
       "      <td>3.33</td>\n",
       "      <td>0.00</td>\n",
       "      <td>16.67</td>\n",
       "    </tr>\n",
       "  </tbody>\n",
       "</table>\n",
       "</div>"
      ],
      "text/plain": [
       "                           Very Unsatisfied  Unsatisfied  Neutral  Satisfied  \\\n",
       "primary school                        71.43        18.75    33.33      27.27   \n",
       "secondary school graduate             28.57        50.00    36.67      36.36   \n",
       "bachelor level                         0.00        31.25    26.67      36.36   \n",
       "master level                           0.00         0.00     3.33       0.00   \n",
       "\n",
       "                           Very Satisfied  \n",
       "primary school                      50.00  \n",
       "secondary school graduate           16.67  \n",
       "bachelor level                      16.67  \n",
       "master level                        16.67  "
      ]
     },
     "execution_count": 4853,
     "metadata": {},
     "output_type": "execute_result"
    }
   ],
   "source": [
    "# relationship between education and sat_salary\n",
    "df13 = round(pd.crosstab(df['education'], df['sat_management'], normalize = 'columns') * 100,2)\n",
    "df13.index=['primary school','secondary school graduate','bachelor level','master level']\n",
    "df13.columns = ['Very Unsatisfied', 'Unsatisfied', 'Neutral', 'Satisfied', 'Very Satisfied']\n",
    "df13"
   ]
  },
  {
   "cell_type": "code",
   "execution_count": 4854,
   "metadata": {},
   "outputs": [
    {
     "data": {
      "image/png": "[encoded data removed]",
      "text/plain": [
       "<Figure size 640x480 with 1 Axes>"
      ]
     },
     "metadata": {},
     "output_type": "display_data"
    }
   ],
   "source": [
    "df13.plot.barh(legend = 'reverse')\n",
    "\n",
    "plt.xlabel('Percentages for education')\n",
    "\n",
    "plt.grid(axis = 'y')"
   ]
  },
  {
   "cell_type": "code",
   "execution_count": 4855,
   "metadata": {},
   "outputs": [
    {
     "data": {
      "text/plain": [
       "Chi2ContingencyResult(statistic=0.0, pvalue=1.0, dof=0, expected_freq=array([[30.],\n",
       "       [51.]]))"
      ]
     },
     "execution_count": 4855,
     "metadata": {},
     "output_type": "execute_result"
    }
   ],
   "source": [
    "from scipy.stats import chi2_contingency\n",
    "\n",
    "\n",
    "chi2_contingency(df7)"
   ]
  },
  {
   "cell_type": "markdown",
   "metadata": {},
   "source": [
    "## Interpretation\n",
    "\n",
    "- Since the p-value (4.090) is greater than 0.05, the result suggests that there is no significant dependency between education level and sat_salary in this dataset.\n",
    "\n",
    "- The observed distribution of sat_salary across education levels is likely due to random variation and not due to a meaningful relationship."
   ]
  },
  {
   "cell_type": "markdown",
   "metadata": {},
   "source": [
    "## 7. Analyzing Two Variables(Peng Ren)"
   ]
  },
  {
   "cell_type": "code",
   "execution_count": 4856,
   "metadata": {},
   "outputs": [],
   "source": [
    "# Analyzing the relationship between family status and task satisfaction\n",
    "# Step: Crosstab to explore relationships between 'family' and 'sat_tasks'\n",
    "crosstab_task_family = pd.crosstab(df['family'], df['sat_tasks'], normalize='columns') * 100"
   ]
  },
  {
   "cell_type": "code",
   "execution_count": 4857,
   "metadata": {},
   "outputs": [
    {
     "data": {
      "image/png": "[encoded data removed]",
      "text/plain": [
       "<Figure size 640x480 with 1 Axes>"
      ]
     },
     "metadata": {},
     "output_type": "display_data"
    }
   ],
   "source": [
    "# Visualize with a stacked bar chart\n",
    "crosstab_task_family.plot(kind='bar', stacked=True)\n",
    "plt.title(\"Task Satisfaction by Family Status\")\n",
    "plt.xlabel(\"Family Status (1 = Single, 2 = Not Single)\")\n",
    "plt.ylabel(\"Percentage (%)\")\n",
    "plt.legend(title=\"Task Satisfaction Levels\", loc='upper right')\n",
    "plt.show()"
   ]
  },
  {
   "cell_type": "code",
   "execution_count": 4858,
   "metadata": {},
   "outputs": [
    {
     "name": "stdout",
     "output_type": "stream",
     "text": [
      "Crosstab Analysis: Task Satisfaction by Family Status (Percentage)\n",
      "sat_tasks     1          2          3     4     5\n",
      "family                                           \n",
      "1          60.0  57.142857  44.827586  16.0  25.0\n",
      "2          40.0  42.857143  55.172414  84.0  75.0\n"
     ]
    }
   ],
   "source": [
    "# Display the crosstab for reference\n",
    "print(\"Crosstab Analysis: Task Satisfaction by Family Status (Percentage)\")\n",
    "print(crosstab_task_family)"
   ]
  },
  {
   "cell_type": "markdown",
   "metadata": {},
   "source": [
    "## 8. Analyzing Two Variables(Zhengliang Hao)"
   ]
  },
  {
   "cell_type": "code",
   "execution_count": 4859,
   "metadata": {},
   "outputs": [],
   "source": [
    "# Defining satisfaction variables to analyze and the group variables\n",
    "satisfaction_vars = ['sat_management', 'sat_colleques', 'sat_workingEnvironment', 'sat_salary', 'sat_tasks']\n",
    "group_var1 = 'family'     # Family status (1 = Single, 2 = Not Single)\n",
    "group_var2 = 'education'  # Education levels (1, 2, 3)"
   ]
  },
  {
   "cell_type": "code",
   "execution_count": 4860,
   "metadata": {},
   "outputs": [],
   "source": [
    "# Results dictionary to store p-values for each comparison\n",
    "p_values = {}"
   ]
  },
  {
   "cell_type": "code",
   "execution_count": 4861,
   "metadata": {},
   "outputs": [],
   "source": [
    "# Conduct t-tests and store p-values\n",
    "for var in satisfaction_vars:\n",
    "    # Comparing 'Single' and 'Not Single' in family status\n",
    "    group1 = df[df[group_var1] == 1][var].dropna()\n",
    "    group2 = df[df[group_var1] == 2][var].dropna()\n",
    "    t_stat_family, p_value_family = ttest_ind(group1, group2, equal_var=False)\n",
    "    \n",
    "    # Comparing education levels 1 and 2\n",
    "    edu1 = df[df[group_var2] == 1][var].dropna()\n",
    "    edu2 = df[df[group_var2] == 2][var].dropna()\n",
    "    t_stat_edu_1_2, p_value_edu_1_2 = ttest_ind(edu1, edu2, equal_var=False)\n",
    "    \n",
    "    # Comparing education levels 1 and 3\n",
    "    edu3 = df[df[group_var2] == 3][var].dropna()\n",
    "    t_stat_edu_1_3, p_value_edu_1_3 = ttest_ind(edu1, edu3, equal_var=False)\n",
    "    \n",
    "    # Comparing education levels 2 and 3\n",
    "    t_stat_edu_2_3, p_value_edu_2_3 = ttest_ind(edu2, edu3, equal_var=False)\n",
    "    \n",
    "    # Storing p-values for each comparison\n",
    "    p_values[var] = {\n",
    "        'Family Status (Single vs Not Single)': p_value_family,\n",
    "        'Education Level (1 vs 2)': p_value_edu_1_2,\n",
    "        'Education Level (1 vs 3)': p_value_edu_1_3,\n",
    "        'Education Level (2 vs 3)': p_value_edu_2_3\n",
    "    }"
   ]
  },
  {
   "cell_type": "code",
   "execution_count": 4862,
   "metadata": {},
   "outputs": [
    {
     "name": "stdout",
     "output_type": "stream",
     "text": [
      "\n",
      "Satisfaction Variable: sat_management\n",
      "Family Status (Single vs Not Single): p-value = 0.0378\n",
      "Education Level (1 vs 2): p-value = 0.9219\n",
      "Education Level (1 vs 3): p-value = 0.3898\n",
      "Education Level (2 vs 3): p-value = 0.2595\n",
      "\n",
      "Satisfaction Variable: sat_colleques\n",
      "Family Status (Single vs Not Single): p-value = 0.4459\n",
      "Education Level (1 vs 2): p-value = 0.5916\n",
      "Education Level (1 vs 3): p-value = 0.6113\n",
      "Education Level (2 vs 3): p-value = 0.1902\n",
      "\n",
      "Satisfaction Variable: sat_workingEnvironment\n",
      "Family Status (Single vs Not Single): p-value = 0.0100\n",
      "Education Level (1 vs 2): p-value = 0.3548\n",
      "Education Level (1 vs 3): p-value = 0.0075\n",
      "Education Level (2 vs 3): p-value = 0.0493\n",
      "\n",
      "Satisfaction Variable: sat_salary\n",
      "Family Status (Single vs Not Single): p-value = 0.0359\n",
      "Education Level (1 vs 2): p-value = 0.4285\n",
      "Education Level (1 vs 3): p-value = 0.0555\n",
      "Education Level (2 vs 3): p-value = 0.2028\n",
      "\n",
      "Satisfaction Variable: sat_tasks\n",
      "Family Status (Single vs Not Single): p-value = 0.0071\n",
      "Education Level (1 vs 2): p-value = 0.6496\n",
      "Education Level (1 vs 3): p-value = 0.1442\n",
      "Education Level (2 vs 3): p-value = 0.3048\n"
     ]
    }
   ],
   "source": [
    "# Displaying the p-values for each satisfaction variable\n",
    "for var, result in p_values.items():\n",
    "    print(f\"\\nSatisfaction Variable: {var}\")\n",
    "    for comparison, p_value in result.items():\n",
    "        print(f\"{comparison}: p-value = {p_value:.4f}\")"
   ]
  },
  {
   "cell_type": "markdown",
   "metadata": {},
   "source": []
  }
 ],
 "metadata": {
  "kernelspec": {
   "display_name": "Python 3",
   "language": "python",
   "name": "python3"
  },
  "language_info": {
   "codemirror_mode": {
    "name": "ipython",
    "version": 3
   },
   "file_extension": ".py",
   "mimetype": "text/x-python",
   "name": "python",
   "nbconvert_exporter": "python",
   "pygments_lexer": "ipython3",
   "version": "3.12.5"
  }
 },
 "nbformat": 4,
 "nbformat_minor": 2
}
